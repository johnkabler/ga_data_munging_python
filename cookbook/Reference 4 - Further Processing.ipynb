{
 "metadata": {
  "name": ""
 },
 "nbformat": 3,
 "nbformat_minor": 0,
 "worksheets": [
  {
   "cells": [
    {
     "cell_type": "code",
     "collapsed": false,
     "input": [
      "import pandas as pd\n",
      "import numpy as np\n",
      "import pylab as pl\n",
      "%pylab inline"
     ],
     "language": "python",
     "metadata": {},
     "outputs": []
    },
    {
     "cell_type": "code",
     "collapsed": false,
     "input": [
      "cd cookbook/"
     ],
     "language": "python",
     "metadata": {},
     "outputs": []
    },
    {
     "cell_type": "code",
     "collapsed": false,
     "input": [
      "df = pd.read_csv(\"../data/credit-data-trainingset.csv\")"
     ],
     "language": "python",
     "metadata": {},
     "outputs": []
    },
    {
     "cell_type": "code",
     "collapsed": false,
     "input": [
      "df.head()"
     ],
     "language": "python",
     "metadata": {},
     "outputs": []
    },
    {
     "cell_type": "code",
     "collapsed": false,
     "input": [
      "df['income_bins'] = pd.cut(df.monthly_income, bins=15)\n",
      "pd.value_counts(df['income_bins'])\n",
      "# not very helpful"
     ],
     "language": "python",
     "metadata": {},
     "outputs": []
    },
    {
     "cell_type": "markdown",
     "metadata": {},
     "source": [
      "###Bucketing Continuous Values"
     ]
    },
    {
     "cell_type": "markdown",
     "metadata": {},
     "source": [
      "####Let's create a cap_value function to cap monthly_income at $15,000 to get rid of pesky outliers"
     ]
    },
    {
     "cell_type": "code",
     "collapsed": false,
     "input": [
      "def cap_values(x, cap):\n",
      "    if x > cap:\n",
      "        return cap\n",
      "    else:\n",
      "        return x\n",
      "    \n",
      "df.monthly_income = df.monthly_income.apply(lambda x: cap_values(x, 15000))"
     ],
     "language": "python",
     "metadata": {},
     "outputs": []
    },
    {
     "cell_type": "code",
     "collapsed": false,
     "input": [
      "df.monthly_income.describe()"
     ],
     "language": "python",
     "metadata": {},
     "outputs": []
    },
    {
     "cell_type": "code",
     "collapsed": false,
     "input": [
      "df['income_bins'] = pd.cut(df.monthly_income, bins=15, labels=False)\n",
      "pd.value_counts(df.income_bins)"
     ],
     "language": "python",
     "metadata": {},
     "outputs": []
    },
    {
     "cell_type": "code",
     "collapsed": false,
     "input": [
      "df[[\"income_bins\", \"serious_dlqin2yrs\"]].groupby(\"income_bins\").mean()"
     ],
     "language": "python",
     "metadata": {},
     "outputs": []
    },
    {
     "cell_type": "code",
     "collapsed": false,
     "input": [
      "cols = [\"income_bins\", \"serious_dlqin2yrs\"]\n",
      "df[cols].groupby(\"income_bins\").mean().plot()"
     ],
     "language": "python",
     "metadata": {},
     "outputs": []
    },
    {
     "cell_type": "code",
     "collapsed": false,
     "input": [
      "cols = ['age', 'serious_dlqin2yrs']\n",
      "age_means = df[cols].groupby(\"age\").mean()\n",
      "age_means.plot()"
     ],
     "language": "python",
     "metadata": {},
     "outputs": []
    },
    {
     "cell_type": "markdown",
     "metadata": {},
     "source": [
      "####Bin `age` into 14 different groups. Then make a frequency table that shows the number of customers that were/were not delinquent for each bin.\n",
      "*HINT: You might want to have larger bins near the min/max values to account for outliers.*"
     ]
    },
    {
     "cell_type": "code",
     "collapsed": false,
     "input": [
      "mybins = [0] + range(20, 80, 5) + [120]\n",
      "df['age_bucket'] = pd.cut(df.age, bins=mybins)\n",
      "pd.value_counts(df['age_bucket'])"
     ],
     "language": "python",
     "metadata": {},
     "outputs": []
    },
    {
     "cell_type": "markdown",
     "metadata": {},
     "source": [
      "####Using the age bins, calculate the percent of customers that were delinquent for each bucket"
     ]
    },
    {
     "cell_type": "code",
     "collapsed": false,
     "input": [
      "df[[\"age_bucket\", \"serious_dlqin2yrs\"]].groupby(\"age_bucket\").mean()"
     ],
     "language": "python",
     "metadata": {},
     "outputs": []
    },
    {
     "cell_type": "code",
     "collapsed": false,
     "input": [
      "df[[\"age_bucket\", \"serious_dlqin2yrs\"]].groupby(\"age_bucket\").mean().plot()"
     ],
     "language": "python",
     "metadata": {},
     "outputs": []
    },
    {
     "cell_type": "code",
     "collapsed": false,
     "input": [
      "labels, levels = pd.factorize(df.age_bucket)\n",
      "df.age_bucket = labels"
     ],
     "language": "python",
     "metadata": {},
     "outputs": []
    },
    {
     "cell_type": "markdown",
     "metadata": {},
     "source": [
      "####Write something that buckets debt_ratio into 4 (nearly) equally sized groups.\n",
      "*Hint: use the `quantile` method for Series*"
     ]
    },
    {
     "cell_type": "code",
     "collapsed": false,
     "input": [
      "bins = []\n",
      "\n",
      "for q in [0.2, 0.4, 0.6, 0.8, 1.0]:\n",
      "    bins.append(df.debt_ratio.quantile(q))\n",
      "\n",
      "debt_ratio_binned = pd.cut(df.debt_ratio, bins=bins)\n",
      "debt_ratio_binned\n",
      "print pd.value_counts(debt_ratio_binned)"
     ],
     "language": "python",
     "metadata": {},
     "outputs": []
    }
   ],
   "metadata": {}
  }
 ]
}