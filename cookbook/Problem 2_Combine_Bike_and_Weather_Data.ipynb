{
 "metadata": {
  "name": ""
 },
 "nbformat": 3,
 "nbformat_minor": 0,
 "worksheets": [
  {
   "cells": [
    {
     "cell_type": "markdown",
     "metadata": {},
     "source": [
      "Here we are doing the typical setup stuff.  We import the pandas library and call it \"pd\" so we don't have to write it all the way out when we call the functions it uses.  \n",
      "\n",
      "Also, we set some options to:\n",
      "\n",
      "\n",
      "1) Make the plots prettier than the default\n",
      "\n",
      "2) We use %pylab inline to tell Ipython to put the plots inside of our window instead of in a new popup window.  "
     ]
    },
    {
     "cell_type": "code",
     "collapsed": false,
     "input": [
      "import pandas as pd\n",
      "pd.set_option('display.mpl_style', 'default')\n",
      "%pylab inline"
     ],
     "language": "python",
     "metadata": {},
     "outputs": []
    },
    {
     "cell_type": "markdown",
     "metadata": {},
     "source": [
      "### Import the weather data\n",
      "\n",
      "I requested a file from the NOAA website.  NOAA is a government agency that knows a lot about the weather.  Apparently their scientists are too busy doing weather stuff to make their data freely available without jumping through hoops.  I eventually got the file, for 2010 weather data observed at Reagan Airport (DCA) in Arlington.  It's in CSV format, like most public data.  \n",
      "\n",
      "Let's pull it in.  "
     ]
    },
    {
     "cell_type": "code",
     "collapsed": false,
     "input": [
      "## code"
     ],
     "language": "python",
     "metadata": {},
     "outputs": []
    },
    {
     "cell_type": "markdown",
     "metadata": {},
     "source": [
      "Now that the file is pulled into memory as a dataframe, let's examine the first 5 rows:\n"
     ]
    },
    {
     "cell_type": "code",
     "collapsed": false,
     "input": [
      "weather_2010[:5]"
     ],
     "language": "python",
     "metadata": {},
     "outputs": []
    },
    {
     "cell_type": "markdown",
     "metadata": {},
     "source": [
      "Notice something??  The dataframe has an extra column on the left that was automatically generated.  That's the index.  Normally, this is fine, but in this case we have timeseries data.  We want to make the 'DATE' column the index so that when we plot it does it by date.  \n",
      "\n",
      "Also, we can merge it with other timeseries data to see how weather correlates with other data.  \n",
      "\n",
      "Let's pull it in now, but this time with the additional commands needed to get the date as the index.  "
     ]
    },
    {
     "cell_type": "code",
     "collapsed": false,
     "input": [
      "## code with date as index"
     ],
     "language": "python",
     "metadata": {},
     "outputs": []
    },
    {
     "cell_type": "code",
     "collapsed": false,
     "input": [
      "weather_2010[:5]"
     ],
     "language": "python",
     "metadata": {},
     "outputs": []
    },
    {
     "cell_type": "markdown",
     "metadata": {},
     "source": [
      "Ok, looks like we're good to go.  Something else you may notice:\n",
      "\n",
      "The temperature column is a bunch of 3 digit numbers.  Turns out they record their data as tenths of a degree, because science.  Translation:  360 = 36 degrees F.  \n",
      "\n",
      "Let's look at the max and min."
     ]
    },
    {
     "cell_type": "code",
     "collapsed": false,
     "input": [
      "weather_2010['HLY-TEMP-NORMAL'].max()"
     ],
     "language": "python",
     "metadata": {},
     "outputs": []
    },
    {
     "cell_type": "code",
     "collapsed": false,
     "input": [
      "weather_2010['HLY-TEMP-NORMAL'].min()"
     ],
     "language": "python",
     "metadata": {},
     "outputs": []
    },
    {
     "cell_type": "markdown",
     "metadata": {},
     "source": [
      "Seems odd, right?  Wasn't it hotter in the summer and cooler in the winter than this?  We even had multiple blizzards in February.  Remember \"Snowmageddon\"?  Someone feel free to investigate this.  "
     ]
    },
    {
     "cell_type": "code",
     "collapsed": false,
     "input": [
      "#code to plot"
     ],
     "language": "python",
     "metadata": {},
     "outputs": []
    },
    {
     "cell_type": "markdown",
     "metadata": {},
     "source": [
      "## Bike Data Combined with Weather Data"
     ]
    },
    {
     "cell_type": "markdown",
     "metadata": {},
     "source": [
      "Now we're going to pull in an Excel file with bike data on it and merge it with our weather data.  \n",
      "\n",
      "Let's see how temperature affects cycling.  "
     ]
    },
    {
     "cell_type": "code",
     "collapsed": false,
     "input": [
      "kb_2010_file = pd.ExcelFile('2010_Rosslyn_Custis_Bike_Data.xlsx')"
     ],
     "language": "python",
     "metadata": {},
     "outputs": []
    },
    {
     "cell_type": "code",
     "collapsed": false,
     "input": [
      "kb_2010 = kb_2010_file.parse('Sheet1', parse_dates=['Date'], index_col='Date')"
     ],
     "language": "python",
     "metadata": {},
     "outputs": []
    },
    {
     "cell_type": "code",
     "collapsed": false,
     "input": [
      "kb_2010[:5]"
     ],
     "language": "python",
     "metadata": {},
     "outputs": []
    },
    {
     "cell_type": "markdown",
     "metadata": {},
     "source": [
      "Ok, so this is an example of where Excel (and Windows in general) can cause you issues with data.  Excel automatically separated the Date and Time from each other when it pulled in the data, and then inserted today's data in with the time (you can't see it until you try to pull it in, but trust me).  \n",
      "\n",
      "So instead, we're going to do an operation to sum up all the bikes passing by at 15 minute intervals for each day."
     ]
    },
    {
     "cell_type": "code",
     "collapsed": false,
     "input": [
      "bike_2010 = kb_2010['Custis Rosslyn Bike'].resample('D',how=np.sum)"
     ],
     "language": "python",
     "metadata": {},
     "outputs": []
    },
    {
     "cell_type": "code",
     "collapsed": false,
     "input": [
      "bike_2010[:50]"
     ],
     "language": "python",
     "metadata": {},
     "outputs": []
    },
    {
     "cell_type": "markdown",
     "metadata": {},
     "source": [
      "Much better.  But notice something? It looks like this created a time series object.  That's cool, but we want it to be a DataFrame so we can merge it with our weather data frame.  Let's do that.  "
     ]
    },
    {
     "cell_type": "code",
     "collapsed": false,
     "input": [
      "type(bike_2010)"
     ],
     "language": "python",
     "metadata": {},
     "outputs": []
    },
    {
     "cell_type": "code",
     "collapsed": false,
     "input": [
      "bikes = pd.DataFrame(bike_2010)"
     ],
     "language": "python",
     "metadata": {},
     "outputs": []
    },
    {
     "cell_type": "code",
     "collapsed": false,
     "input": [
      "bikes.columns"
     ],
     "language": "python",
     "metadata": {},
     "outputs": []
    },
    {
     "cell_type": "code",
     "collapsed": false,
     "input": [
      "type(weather_2010)"
     ],
     "language": "python",
     "metadata": {},
     "outputs": []
    },
    {
     "cell_type": "markdown",
     "metadata": {},
     "source": [
      "#### Merge the data\n",
      "\n",
      "Ok, this is a command that you should read up on.  In this case, we have two DataFrames with date-time indexes.  Let's merge them now.  \n",
      "\n",
      "Notice that we are merging an hourly weather sample with a daily bike sample.  Pandas detects this and automatically makes the output a daily sample.  "
     ]
    },
    {
     "cell_type": "code",
     "collapsed": false,
     "input": [
      "weather_bike_2010 = pd.merge(weather_2010, bikes, left_index=True, right_index=True)"
     ],
     "language": "python",
     "metadata": {},
     "outputs": []
    },
    {
     "cell_type": "code",
     "collapsed": false,
     "input": [
      "weather_bike_2010[:50]"
     ],
     "language": "python",
     "metadata": {},
     "outputs": []
    },
    {
     "cell_type": "markdown",
     "metadata": {},
     "source": [
      "Let's select just two columns that we care about.  \n",
      "\n",
      "In this case, just the bike count and the temperature."
     ]
    },
    {
     "cell_type": "code",
     "collapsed": false,
     "input": [
      "weather_bike_2010[['Custis Rosslyn Bike', 'HLY-TEMP-NORMAL']]"
     ],
     "language": "python",
     "metadata": {},
     "outputs": []
    },
    {
     "cell_type": "markdown",
     "metadata": {},
     "source": [
      "#### Plot the data\n",
      "\n",
      "Now let's see if there is a correlation here by plotting the data.  "
     ]
    },
    {
     "cell_type": "code",
     "collapsed": false,
     "input": [
      "weather_bike_2010[['Custis Rosslyn Bike', 'HLY-TEMP-NORMAL']].plot(figsize=(20,10))"
     ],
     "language": "python",
     "metadata": {},
     "outputs": []
    },
    {
     "cell_type": "markdown",
     "metadata": {},
     "source": [
      "Awesome!  Notice how on some days you see a huge drop in cyclists.  Look at February, and the drops align with the blizzards.  The other drops are likely rainy days.  There are ways to check for this correlation, but its out of the scope for a 90 minute introductory session.  "
     ]
    }
   ],
   "metadata": {}
  }
 ]
}