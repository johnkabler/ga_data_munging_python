{
 "metadata": {
  "name": ""
 },
 "nbformat": 3,
 "nbformat_minor": 0,
 "worksheets": [
  {
   "cells": [
    {
     "cell_type": "markdown",
     "metadata": {},
     "source": [
      "#Agenda\n",
      "\n",
      "- Define the problem and the approach\n",
      "- Data basics: loading data, looking at your data, basic commands\n",
      "- Handling missing values\n",
      "- Intro to scikit-learn\n",
      "- Grouping and aggregating data\n",
      "- <p style=\"color: red\">Feature selection</p>\n",
      "- Fitting and evaluating a model\n",
      "- Deploying your work"
     ]
    },
    {
     "cell_type": "markdown",
     "metadata": {},
     "source": [
      "#In this workbook you will\n",
      "- Use RandomForest to calculate the best features for your model\n",
      "- Handling outlying data using `apply` and `groupby`\n",
      "- Discretize (or bucket) data into groups\n",
      "- Make your own features for your model"
     ]
    },
    {
     "cell_type": "code",
     "collapsed": false,
     "input": [
      "import pandas as pd\n",
      "import numpy as np\n",
      "import pylab as pl"
     ],
     "language": "python",
     "metadata": {},
     "outputs": [],
     "prompt_number": 1
    },
    {
     "cell_type": "code",
     "collapsed": false,
     "input": [
      "df = pd.read_csv(\"./data/credit-data-trainingset.csv\")"
     ],
     "language": "python",
     "metadata": {},
     "outputs": [],
     "prompt_number": 2
    },
    {
     "cell_type": "code",
     "collapsed": false,
     "input": [
      "df.head()"
     ],
     "language": "python",
     "metadata": {},
     "outputs": [
      {
       "html": [
        "<div style=\"max-height:1000px;max-width:1500px;overflow:auto;\">\n",
        "<table border=\"1\" class=\"dataframe\">\n",
        "  <thead>\n",
        "    <tr style=\"text-align: right;\">\n",
        "      <th></th>\n",
        "      <th>serious_dlqin2yrs</th>\n",
        "      <th>revolving_utilization_of_unsecured_lines</th>\n",
        "      <th>age</th>\n",
        "      <th>number_of_time30-59_days_past_due_not_worse</th>\n",
        "      <th>debt_ratio</th>\n",
        "      <th>monthly_income</th>\n",
        "      <th>number_of_open_credit_lines_and_loans</th>\n",
        "      <th>number_of_times90_days_late</th>\n",
        "      <th>number_real_estate_loans_or_lines</th>\n",
        "      <th>number_of_time60-89_days_past_due_not_worse</th>\n",
        "      <th>number_of_dependents</th>\n",
        "    </tr>\n",
        "  </thead>\n",
        "  <tbody>\n",
        "    <tr>\n",
        "      <th>0</th>\n",
        "      <td> 1</td>\n",
        "      <td> 0.766127</td>\n",
        "      <td> 45</td>\n",
        "      <td> 2</td>\n",
        "      <td> 0.802982</td>\n",
        "      <td>  9120</td>\n",
        "      <td> 13</td>\n",
        "      <td> 0</td>\n",
        "      <td> 6</td>\n",
        "      <td> 0</td>\n",
        "      <td> 2</td>\n",
        "    </tr>\n",
        "    <tr>\n",
        "      <th>1</th>\n",
        "      <td> 0</td>\n",
        "      <td> 0.957151</td>\n",
        "      <td> 40</td>\n",
        "      <td> 0</td>\n",
        "      <td> 0.121876</td>\n",
        "      <td>  2600</td>\n",
        "      <td>  4</td>\n",
        "      <td> 0</td>\n",
        "      <td> 0</td>\n",
        "      <td> 0</td>\n",
        "      <td> 1</td>\n",
        "    </tr>\n",
        "    <tr>\n",
        "      <th>2</th>\n",
        "      <td> 0</td>\n",
        "      <td> 0.658180</td>\n",
        "      <td> 38</td>\n",
        "      <td> 1</td>\n",
        "      <td> 0.085113</td>\n",
        "      <td>  3042</td>\n",
        "      <td>  2</td>\n",
        "      <td> 1</td>\n",
        "      <td> 0</td>\n",
        "      <td> 0</td>\n",
        "      <td> 0</td>\n",
        "    </tr>\n",
        "    <tr>\n",
        "      <th>3</th>\n",
        "      <td> 0</td>\n",
        "      <td> 0.907239</td>\n",
        "      <td> 49</td>\n",
        "      <td> 1</td>\n",
        "      <td> 0.024926</td>\n",
        "      <td> 63588</td>\n",
        "      <td>  7</td>\n",
        "      <td> 0</td>\n",
        "      <td> 1</td>\n",
        "      <td> 0</td>\n",
        "      <td> 0</td>\n",
        "    </tr>\n",
        "    <tr>\n",
        "      <th>4</th>\n",
        "      <td> 0</td>\n",
        "      <td> 0.213179</td>\n",
        "      <td> 74</td>\n",
        "      <td> 0</td>\n",
        "      <td> 0.375607</td>\n",
        "      <td>  3500</td>\n",
        "      <td>  3</td>\n",
        "      <td> 0</td>\n",
        "      <td> 1</td>\n",
        "      <td> 0</td>\n",
        "      <td> 1</td>\n",
        "    </tr>\n",
        "  </tbody>\n",
        "</table>\n",
        "</div>"
       ],
       "metadata": {},
       "output_type": "pyout",
       "prompt_number": 3,
       "text": [
        "   serious_dlqin2yrs  revolving_utilization_of_unsecured_lines  age  \\\n",
        "0                  1                                  0.766127   45   \n",
        "1                  0                                  0.957151   40   \n",
        "2                  0                                  0.658180   38   \n",
        "3                  0                                  0.907239   49   \n",
        "4                  0                                  0.213179   74   \n",
        "\n",
        "   number_of_time30-59_days_past_due_not_worse  debt_ratio  monthly_income  \\\n",
        "0                                            2    0.802982            9120   \n",
        "1                                            0    0.121876            2600   \n",
        "2                                            1    0.085113            3042   \n",
        "3                                            1    0.024926           63588   \n",
        "4                                            0    0.375607            3500   \n",
        "\n",
        "   number_of_open_credit_lines_and_loans  number_of_times90_days_late  \\\n",
        "0                                     13                            0   \n",
        "1                                      4                            0   \n",
        "2                                      2                            1   \n",
        "3                                      7                            0   \n",
        "4                                      3                            0   \n",
        "\n",
        "   number_real_estate_loans_or_lines  \\\n",
        "0                                  6   \n",
        "1                                  0   \n",
        "2                                  0   \n",
        "3                                  1   \n",
        "4                                  1   \n",
        "\n",
        "   number_of_time60-89_days_past_due_not_worse  number_of_dependents  \n",
        "0                                            0                     2  \n",
        "1                                            0                     1  \n",
        "2                                            0                     0  \n",
        "3                                            0                     0  \n",
        "4                                            0                     1  "
       ]
      }
     ],
     "prompt_number": 3
    },
    {
     "cell_type": "code",
     "collapsed": false,
     "input": [
      "from sklearn.ensemble import RandomForestClassifier\n",
      "\n",
      "features = np.array(['revolving_utilization_of_unsecured_lines',\n",
      "                     'age', 'number_of_time30-59_days_past_due_not_worse',\n",
      "                     'debt_ratio', 'monthly_income','number_of_open_credit_lines_and_loans', \n",
      "                     'number_of_times90_days_late', 'number_real_estate_loans_or_lines',\n",
      "                     'number_of_time60-89_days_past_due_not_worse', 'number_of_dependents'])"
     ],
     "language": "python",
     "metadata": {},
     "outputs": [],
     "prompt_number": 4
    },
    {
     "cell_type": "code",
     "collapsed": false,
     "input": [
      "clf = RandomForestClassifier(compute_importances=True)\n",
      "clf.fit(df[features], df['serious_dlqin2yrs'])"
     ],
     "language": "python",
     "metadata": {},
     "outputs": [
      {
       "output_type": "stream",
       "stream": "stderr",
       "text": [
        "/usr/local/lib/python2.7/site-packages/sklearn/ensemble/forest.py:783: DeprecationWarning: Setting compute_importances is no longer required as version 0.14. Variable importances are now computed on the fly when accessing the feature_importances_ attribute. This parameter will be removed in 0.16.\n",
        "  DeprecationWarning)\n"
       ]
      },
      {
       "metadata": {},
       "output_type": "pyout",
       "prompt_number": 5,
       "text": [
        "RandomForestClassifier(bootstrap=True, compute_importances=None,\n",
        "            criterion='gini', max_depth=None, max_features='auto',\n",
        "            min_density=None, min_samples_leaf=1, min_samples_split=2,\n",
        "            n_estimators=10, n_jobs=1, oob_score=False, random_state=None,\n",
        "            verbose=0)"
       ]
      }
     ],
     "prompt_number": 5
    },
    {
     "cell_type": "code",
     "collapsed": false,
     "input": [
      "# from the calculated importances, order them from most to least important\n",
      "# and make a barplot so we can visualize what is/isn't important\n",
      "importances = clf.feature_importances_\n",
      "sorted_idx = np.argsort(importances)"
     ],
     "language": "python",
     "metadata": {},
     "outputs": [],
     "prompt_number": 6
    },
    {
     "cell_type": "code",
     "collapsed": false,
     "input": [
      "padding = np.arange(len(features)) + 0.5\n",
      "pl.barh(padding, importances[sorted_idx], align='center')\n",
      "pl.yticks(padding, features[sorted_idx])\n",
      "pl.xlabel(\"Relative Importance\")\n",
      "pl.title(\"Variable Importance\")\n",
      "pl.show()"
     ],
     "language": "python",
     "metadata": {},
     "outputs": [
      {
       "metadata": {},
       "output_type": "display_data",
       "png": "[encoded data removed]",
       "text": [
        "<matplotlib.figure.Figure at 0x109721290>"
       ]
      }
     ],
     "prompt_number": 7
    },
    {
     "cell_type": "markdown",
     "metadata": {},
     "source": [
      "So you can see that the best variable is `revolving_utilization_of_unsecured_lines` while the worst is `number_real_estate_loans_or_lines`. There's also a dramatic drop off after `number_of_open_credit_lines_and_loans`. This is where you need to use your own discretion. How many variables should you include in your model?"
     ]
    },
    {
     "cell_type": "markdown",
     "metadata": {},
     "source": [
      "###Engineering Additional Features\n",
      "Feature selection/engineering will likely have the biggest impact in determining the success/failure of your model. Even if you're using the latest and greatest algorithm, if you put in non-important features you're going to get poor results. Remember, it's math, not magic.\n",
      "\n",
      "Feature engineering is a skill that will take time to get the hang of. Sometimes the best way is to just talk to people. Ask questions, brainstorm with others, etc. Oftentimes 2 features might not be helpful when used individually, but when combined they can be extremely powerful.\n",
      "\n"
     ]
    },
    {
     "cell_type": "code",
     "collapsed": false,
     "input": [
      "df['income_bins'] = pd.cut(df.monthly_income, bins=15)\n",
      "pd.value_counts(df['income_bins'])\n",
      "# not very helpful"
     ],
     "language": "python",
     "metadata": {},
     "outputs": [
      {
       "metadata": {},
       "output_type": "pyout",
       "prompt_number": 8,
       "text": [
        "(-3008.75, 200583.333]        112392\n",
        "(200583.333, 401166.667]          11\n",
        "(601750, 802333.333]               5\n",
        "(401166.667, 601750]               4\n",
        "(1404083.333, 1604666.667]         1\n",
        "(802333.333, 1002916.667]          1\n",
        "(2808166.667, 3008750]             1\n",
        "dtype: int64"
       ]
      }
     ],
     "prompt_number": 8
    },
    {
     "cell_type": "markdown",
     "metadata": {},
     "source": [
      "###Bucketing Continuous Values"
     ]
    },
    {
     "cell_type": "markdown",
     "metadata": {},
     "source": [
      "####Use the cap_value function you wrote previously to cap monthly_income at $15,000"
     ]
    },
    {
     "cell_type": "code",
     "collapsed": false,
     "input": [
      "def cap_values(x, cap):\n",
      "    if x > cap:\n",
      "        return cap\n",
      "    else:\n",
      "        return x\n",
      "    \n",
      "df.monthly_income = df.monthly_income.apply(lambda x: cap_values(x, 15000))"
     ],
     "language": "python",
     "metadata": {},
     "outputs": [],
     "prompt_number": 9
    },
    {
     "cell_type": "code",
     "collapsed": false,
     "input": [
      "df.monthly_income.describe()"
     ],
     "language": "python",
     "metadata": {},
     "outputs": [
      {
       "metadata": {},
       "output_type": "pyout",
       "prompt_number": 10,
       "text": [
        "count    112415.000000\n",
        "mean       5916.167344\n",
        "std        3644.715884\n",
        "min           0.000000\n",
        "25%        3235.000000\n",
        "50%        5200.000000\n",
        "75%        8000.000000\n",
        "max       15000.000000\n",
        "dtype: float64"
       ]
      }
     ],
     "prompt_number": 10
    },
    {
     "cell_type": "code",
     "collapsed": false,
     "input": [
      "df['income_bins'] = pd.cut(df.monthly_income, bins=15, labels=False)\n",
      "pd.value_counts(df.income_bins)"
     ],
     "language": "python",
     "metadata": {},
     "outputs": [
      {
       "metadata": {},
       "output_type": "pyout",
       "prompt_number": 11,
       "text": [
        "3     14614\n",
        "4     14412\n",
        "2     13192\n",
        "5     12034\n",
        "6     10713\n",
        "1      8042\n",
        "7      7839\n",
        "8      5743\n",
        "9      5597\n",
        "14     5439\n",
        "0      4465\n",
        "10     4307\n",
        "11     2536\n",
        "12     1959\n",
        "13     1523\n",
        "dtype: int64"
       ]
      }
     ],
     "prompt_number": 11
    },
    {
     "cell_type": "code",
     "collapsed": false,
     "input": [
      "df[[\"income_bins\", \"serious_dlqin2yrs\"]].groupby(\"income_bins\").mean()"
     ],
     "language": "python",
     "metadata": {},
     "outputs": [
      {
       "html": [
        "<div style=\"max-height:1000px;max-width:1500px;overflow:auto;\">\n",
        "<table border=\"1\" class=\"dataframe\">\n",
        "  <thead>\n",
        "    <tr style=\"text-align: right;\">\n",
        "      <th></th>\n",
        "      <th>serious_dlqin2yrs</th>\n",
        "    </tr>\n",
        "    <tr>\n",
        "      <th>income_bins</th>\n",
        "      <th></th>\n",
        "    </tr>\n",
        "  </thead>\n",
        "  <tbody>\n",
        "    <tr>\n",
        "      <th>0 </th>\n",
        "      <td> 0.047256</td>\n",
        "    </tr>\n",
        "    <tr>\n",
        "      <th>1 </th>\n",
        "      <td> 0.098980</td>\n",
        "    </tr>\n",
        "    <tr>\n",
        "      <th>2 </th>\n",
        "      <td> 0.092480</td>\n",
        "    </tr>\n",
        "    <tr>\n",
        "      <th>3 </th>\n",
        "      <td> 0.079239</td>\n",
        "    </tr>\n",
        "    <tr>\n",
        "      <th>4 </th>\n",
        "      <td> 0.068485</td>\n",
        "    </tr>\n",
        "    <tr>\n",
        "      <th>5 </th>\n",
        "      <td> 0.067309</td>\n",
        "    </tr>\n",
        "    <tr>\n",
        "      <th>6 </th>\n",
        "      <td> 0.057220</td>\n",
        "    </tr>\n",
        "    <tr>\n",
        "      <th>7 </th>\n",
        "      <td> 0.056767</td>\n",
        "    </tr>\n",
        "    <tr>\n",
        "      <th>8 </th>\n",
        "      <td> 0.053108</td>\n",
        "    </tr>\n",
        "    <tr>\n",
        "      <th>9 </th>\n",
        "      <td> 0.048061</td>\n",
        "    </tr>\n",
        "    <tr>\n",
        "      <th>10</th>\n",
        "      <td> 0.042721</td>\n",
        "    </tr>\n",
        "    <tr>\n",
        "      <th>11</th>\n",
        "      <td> 0.041009</td>\n",
        "    </tr>\n",
        "    <tr>\n",
        "      <th>12</th>\n",
        "      <td> 0.040327</td>\n",
        "    </tr>\n",
        "    <tr>\n",
        "      <th>13</th>\n",
        "      <td> 0.042679</td>\n",
        "    </tr>\n",
        "    <tr>\n",
        "      <th>14</th>\n",
        "      <td> 0.048538</td>\n",
        "    </tr>\n",
        "  </tbody>\n",
        "</table>\n",
        "</div>"
       ],
       "metadata": {},
       "output_type": "pyout",
       "prompt_number": 12,
       "text": [
        "             serious_dlqin2yrs\n",
        "income_bins                   \n",
        "0                     0.047256\n",
        "1                     0.098980\n",
        "2                     0.092480\n",
        "3                     0.079239\n",
        "4                     0.068485\n",
        "5                     0.067309\n",
        "6                     0.057220\n",
        "7                     0.056767\n",
        "8                     0.053108\n",
        "9                     0.048061\n",
        "10                    0.042721\n",
        "11                    0.041009\n",
        "12                    0.040327\n",
        "13                    0.042679\n",
        "14                    0.048538"
       ]
      }
     ],
     "prompt_number": 12
    },
    {
     "cell_type": "code",
     "collapsed": false,
     "input": [
      "cols = [\"income_bins\", \"serious_dlqin2yrs\"]\n",
      "df[cols].groupby(\"income_bins\").mean().plot()"
     ],
     "language": "python",
     "metadata": {},
     "outputs": [
      {
       "metadata": {},
       "output_type": "pyout",
       "prompt_number": 13,
       "text": [
        "<matplotlib.axes.AxesSubplot at 0x10bf4cb50>"
       ]
      },
      {
       "metadata": {},
       "output_type": "display_data",
       "png": "[encoded data removed]",
       "text": [
        "<matplotlib.figure.Figure at 0x10970e990>"
       ]
      }
     ],
     "prompt_number": 13
    },
    {
     "cell_type": "code",
     "collapsed": false,
     "input": [
      "cols = ['age', 'serious_dlqin2yrs']\n",
      "age_means = df[cols].groupby(\"age\").mean()\n",
      "age_means.plot()"
     ],
     "language": "python",
     "metadata": {},
     "outputs": [
      {
       "metadata": {},
       "output_type": "pyout",
       "prompt_number": 14,
       "text": [
        "<matplotlib.axes.AxesSubplot at 0x10bf70350>"
       ]
      },
      {
       "metadata": {},
       "output_type": "display_data",
       "png": "[encoded data removed]",
       "text": [
        "<matplotlib.figure.Figure at 0x109729790>"
       ]
      }
     ],
     "prompt_number": 14
    },
    {
     "cell_type": "markdown",
     "metadata": {},
     "source": [
      "####Bin `age` into 14 different groups. Then make a frequency table that shows the number of customers that were/were not delinquent for each bin.\n",
      "*HINT: You might want to have larger bins near the min/max values to account for outliers.*"
     ]
    },
    {
     "cell_type": "code",
     "collapsed": false,
     "input": [
      "mybins = [0] + range(20, 80, 5) + [120]\n",
      "df['age_bucket'] = pd.cut(df.age, bins=mybins)\n",
      "pd.value_counts(df['age_bin'])"
     ],
     "language": "python",
     "metadata": {},
     "outputs": [
      {
       "metadata": {},
       "output_type": "pyout",
       "prompt_number": 24,
       "text": [
        "(45, 50]     14112\n",
        "(50, 55]     13390\n",
        "(55, 60]     12629\n",
        "(60, 65]     12317\n",
        "(40, 45]     12053\n",
        "(35, 40]     10241\n",
        "(65, 70]      8315\n",
        "(30, 35]      8123\n",
        "(75, 120]     7581\n",
        "(25, 30]      5803\n",
        "(70, 75]      5600\n",
        "(20, 25]      2250\n",
        "dtype: int64"
       ]
      }
     ],
     "prompt_number": 24
    },
    {
     "cell_type": "markdown",
     "metadata": {},
     "source": [
      "####Using the age bins, calculate the percent of customers that were delinquent for each bucket"
     ]
    },
    {
     "cell_type": "code",
     "collapsed": false,
     "input": [
      "df[[\"age_bucket\", \"serious_dlqin2yrs\"]].groupby(\"age_bucket\").mean()"
     ],
     "language": "python",
     "metadata": {},
     "outputs": [
      {
       "html": [
        "<div style=\"max-height:1000px;max-width:1500px;overflow:auto;\">\n",
        "<table border=\"1\" class=\"dataframe\">\n",
        "  <thead>\n",
        "    <tr style=\"text-align: right;\">\n",
        "      <th></th>\n",
        "      <th>serious_dlqin2yrs</th>\n",
        "    </tr>\n",
        "    <tr>\n",
        "      <th>age_bucket</th>\n",
        "      <th></th>\n",
        "    </tr>\n",
        "  </thead>\n",
        "  <tbody>\n",
        "    <tr>\n",
        "      <th>(20, 25]</th>\n",
        "      <td> 0.109778</td>\n",
        "    </tr>\n",
        "    <tr>\n",
        "      <th>(25, 30]</th>\n",
        "      <td> 0.116319</td>\n",
        "    </tr>\n",
        "    <tr>\n",
        "      <th>(30, 35]</th>\n",
        "      <td> 0.108211</td>\n",
        "    </tr>\n",
        "    <tr>\n",
        "      <th>(35, 40]</th>\n",
        "      <td> 0.088956</td>\n",
        "    </tr>\n",
        "    <tr>\n",
        "      <th>(40, 45]</th>\n",
        "      <td> 0.085124</td>\n",
        "    </tr>\n",
        "    <tr>\n",
        "      <th>(45, 50]</th>\n",
        "      <td> 0.080995</td>\n",
        "    </tr>\n",
        "    <tr>\n",
        "      <th>(50, 55]</th>\n",
        "      <td> 0.072890</td>\n",
        "    </tr>\n",
        "    <tr>\n",
        "      <th>(55, 60]</th>\n",
        "      <td> 0.050598</td>\n",
        "    </tr>\n",
        "    <tr>\n",
        "      <th>(60, 65]</th>\n",
        "      <td> 0.039864</td>\n",
        "    </tr>\n",
        "    <tr>\n",
        "      <th>(65, 70]</th>\n",
        "      <td> 0.026458</td>\n",
        "    </tr>\n",
        "    <tr>\n",
        "      <th>(70, 75]</th>\n",
        "      <td> 0.026607</td>\n",
        "    </tr>\n",
        "    <tr>\n",
        "      <th>(75, 120]</th>\n",
        "      <td> 0.020314</td>\n",
        "    </tr>\n",
        "  </tbody>\n",
        "</table>\n",
        "</div>"
       ],
       "metadata": {},
       "output_type": "pyout",
       "prompt_number": 25,
       "text": [
        "            serious_dlqin2yrs\n",
        "age_bucket                   \n",
        "(20, 25]             0.109778\n",
        "(25, 30]             0.116319\n",
        "(30, 35]             0.108211\n",
        "(35, 40]             0.088956\n",
        "(40, 45]             0.085124\n",
        "(45, 50]             0.080995\n",
        "(50, 55]             0.072890\n",
        "(55, 60]             0.050598\n",
        "(60, 65]             0.039864\n",
        "(65, 70]             0.026458\n",
        "(70, 75]             0.026607\n",
        "(75, 120]            0.020314"
       ]
      }
     ],
     "prompt_number": 25
    },
    {
     "cell_type": "code",
     "collapsed": false,
     "input": [
      "df[[\"age_bucket\", \"serious_dlqin2yrs\"]].groupby(\"age_bucket\").mean().plot()"
     ],
     "language": "python",
     "metadata": {},
     "outputs": [
      {
       "metadata": {},
       "output_type": "pyout",
       "prompt_number": 26,
       "text": [
        "<matplotlib.axes.AxesSubplot at 0x1078df650>"
       ]
      },
      {
       "metadata": {},
       "output_type": "display_data",
       "png": "[encoded data removed]",
       "text": [
        "<matplotlib.figure.Figure at 0x1078dfc10>"
       ]
      }
     ],
     "prompt_number": 26
    },
    {
     "cell_type": "code",
     "collapsed": false,
     "input": [
      "labels, levels = pd.factorize(df.age_bucket)\n",
      "df.age_bucket = labels"
     ],
     "language": "python",
     "metadata": {},
     "outputs": [],
     "prompt_number": 27
    },
    {
     "cell_type": "markdown",
     "metadata": {},
     "source": [
      "####Write something that buckets debt_ratio into 4 (nearly) equally sized groups.\n",
      "*Hint: use the `quantile` method for Series*"
     ]
    },
    {
     "cell_type": "code",
     "collapsed": false,
     "input": [
      "bins = []\n",
      "\n",
      "for q in [0.2, 0.4, 0.6, 0.8, 1.0]:\n",
      "    bins.append(df.debt_ratio.quantile(q))\n",
      "\n",
      "debt_ratio_binned = pd.cut(df.debt_ratio, bins=bins)\n",
      "debt_ratio_binned\n",
      "print pd.value_counts(debt_ratio_binned)"
     ],
     "language": "python",
     "metadata": {},
     "outputs": [
      {
       "output_type": "stream",
       "stream": "stdout",
       "text": [
        "(0.467, 3.838]     22483\n",
        "(3.838, 307001]    22483\n",
        "(0.134, 0.287]     22483\n",
        "(0.287, 0.467]     22483\n",
        "dtype: int64\n"
       ]
      }
     ],
     "prompt_number": 34
    },
    {
     "cell_type": "markdown",
     "metadata": {},
     "source": [
      "###Scaling Features\n",
      "Some algorithms will work better if your data is centered around 0. The `StandardScaler` module in `scikit-learn` makes it very easy to quickly scale columns in your data frame."
     ]
    },
    {
     "cell_type": "code",
     "collapsed": false,
     "input": [
      "from sklearn.preprocessing import StandardScaler\n",
      "\n",
      "df['monthly_income_scaled'] = StandardScaler().fit_transform(df.monthly_income)"
     ],
     "language": "python",
     "metadata": {},
     "outputs": [],
     "prompt_number": 35
    },
    {
     "cell_type": "code",
     "collapsed": false,
     "input": [
      "print df.monthly_income_scaled.describe()\n",
      "print\n",
      "print \"Mean at 0?\", round(df.monthly_income_scaled.mean(), 10)==0\n",
      "\n",
      "pl.hist(df.monthly_income_scaled)"
     ],
     "language": "python",
     "metadata": {},
     "outputs": [
      {
       "output_type": "stream",
       "stream": "stdout",
       "text": [
        "count    1.124150e+05\n",
        "mean     1.023365e-15\n",
        "std      1.000004e+00\n",
        "min     -1.623225e+00\n",
        "25%     -7.356346e-01\n",
        "50%     -1.964956e-01\n",
        "75%      5.717433e-01\n",
        "max      2.492341e+00\n",
        "dtype: float64\n",
        "\n",
        "Mean at 0? True\n"
       ]
      },
      {
       "metadata": {},
       "output_type": "pyout",
       "prompt_number": 36,
       "text": [
        "(array([  8669.,  15715.,  22969.,  17668.,  15316.,  10149.,   7454.,\n",
        "         5079.,   2939.,   6457.]),\n",
        " array([-1.62322492, -1.21166838, -0.80011184, -0.38855529,  0.02300125,\n",
        "        0.4345578 ,  0.84611434,  1.25767088,  1.66922743,  2.08078397,\n",
        "        2.49234051]),\n",
        " <a list of 10 Patch objects>)"
       ]
      },
      {
       "metadata": {},
       "output_type": "display_data",
       "png": "[encoded data removed]",
       "text": [
        "<matplotlib.figure.Figure at 0x1078cc050>"
       ]
      }
     ],
     "prompt_number": 36
    },
    {
     "cell_type": "markdown",
     "metadata": {},
     "source": [
      "##Redo our feature importance"
     ]
    },
    {
     "cell_type": "code",
     "collapsed": false,
     "input": [
      "features = np.array(['revolving_utilization_of_unsecured_lines',\n",
      "                     'age', 'number_of_time30-59_days_past_due_not_worse',\n",
      "                     'debt_ratio', 'monthly_income','number_of_open_credit_lines_and_loans', \n",
      "                     'number_of_times90_days_late', 'number_real_estate_loans_or_lines',\n",
      "                     'number_of_time60-89_days_past_due_not_worse', 'number_of_dependents',\n",
      "                     'income_bins', 'age_bucket', 'monthly_income_scaled'])\n",
      "\n",
      "clf = RandomForestClassifier(compute_importances=True)\n",
      "clf.fit(df[features], df['serious_dlqin2yrs'])\n",
      "\n",
      "importances = clf.feature_importances_\n",
      "sorted_idx = np.argsort(importances)\n",
      "\n",
      "padding = np.arange(len(features)) + 0.5\n",
      "pl.barh(padding, importances[sorted_idx], align='center')\n",
      "pl.yticks(padding, features[sorted_idx])\n",
      "pl.xlabel(\"Relative Importance\")\n",
      "pl.title(\"Variable Importance\")\n",
      "pl.show()"
     ],
     "language": "python",
     "metadata": {},
     "outputs": [
      {
       "output_type": "stream",
       "stream": "stderr",
       "text": [
        "/usr/local/lib/python2.7/site-packages/sklearn/ensemble/forest.py:783: DeprecationWarning: Setting compute_importances is no longer required as version 0.14. Variable importances are now computed on the fly when accessing the feature_importances_ attribute. This parameter will be removed in 0.16.\n",
        "  DeprecationWarning)\n"
       ]
      },
      {
       "metadata": {},
       "output_type": "display_data",
       "png": "[encoded data removed]",
       "text": [
        "<matplotlib.figure.Figure at 0x1081a49d0>"
       ]
      }
     ],
     "prompt_number": 37
    },
    {
     "cell_type": "code",
     "collapsed": false,
     "input": [
      "best_features = features[sorted_idx][::-1]\n",
      "best_features"
     ],
     "language": "python",
     "metadata": {},
     "outputs": [
      {
       "metadata": {},
       "output_type": "pyout",
       "prompt_number": 24,
       "text": [
        "array(['revolving_utilization_of_unsecured_lines', 'debt_ratio',\n",
        "       'monthly_income', 'number_of_times90_days_late', 'age',\n",
        "       'monthly_income_scaled', 'number_of_open_credit_lines_and_loans',\n",
        "       'number_of_time30-59_days_past_due_not_worse',\n",
        "       'number_of_time60-89_days_past_due_not_worse', 'age_bucket',\n",
        "       'number_of_dependents', 'number_real_estate_loans_or_lines',\n",
        "       'income_bins'], \n",
        "      dtype='|S43')"
       ]
      }
     ],
     "prompt_number": 24
    },
    {
     "cell_type": "markdown",
     "metadata": {},
     "source": [
      "##Test out your own features\n",
      "Partner with the person sitting next to you and see if you can come up with some new features that outperform the basic variables.\n",
      "\n",
      "- brainstorm new features\n",
      "- create them using pandas\n",
      "- test their effectiveness w/ scikit-learn\n",
      "\n",
      "Things you might try:\n",
      "\n",
      "- Try using some of the scikit-learn [preprecessing functions](http://scikit-learn.org/stable/modules/preprocessing.html#preprocessing)\n",
      "- Look at `pd.get_dummies`\n",
      "- Combine features together (total times late, log(monthly_income), age^2)"
     ]
    },
    {
     "cell_type": "markdown",
     "metadata": {},
     "source": [
      "##We just did the following\n",
      "\n",
      "- Ranked feature importance using RandomForest\n",
      "- Created some of our own features using `pandas` and `scikit-learn`\n",
      "- Scaled data using `scikit-learn`"
     ]
    }
   ],
   "metadata": {}
  }
 ]
}