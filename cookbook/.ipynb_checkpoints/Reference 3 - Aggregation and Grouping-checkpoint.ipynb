{
 "metadata": {
  "name": ""
 },
 "nbformat": 3,
 "nbformat_minor": 0,
 "worksheets": [
  {
   "cells": [
    {
     "cell_type": "markdown",
     "metadata": {},
     "source": [
      "# Aggregating and Grouping Data with Pandas"
     ]
    },
    {
     "cell_type": "markdown",
     "metadata": {},
     "source": [
      "#In this workbook you will\n",
      "- Receive and overview of the `apply` function\n",
      "- Write custom functions for analyzing data in `pandas`\n",
      "- Do SQL style joins on your data frames"
     ]
    },
    {
     "cell_type": "code",
     "collapsed": false,
     "input": [
      "import pandas as pd\n",
      "import numpy as np\n",
      "import pylab as pl"
     ],
     "language": "python",
     "metadata": {},
     "outputs": [
      {
       "output_type": "stream",
       "stream": "stderr",
       "text": [
        "/Users/johnkabler/anaconda/lib/python2.7/site-packages/pytz/__init__.py:35: UserWarning: Module argparse was already imported from /Users/johnkabler/anaconda/python.app/Contents/lib/python2.7/argparse.pyc, but /Users/johnkabler/anaconda/lib/python2.7/site-packages is being added to sys.path\n",
        "  from pkg_resources import resource_stream\n"
       ]
      }
     ],
     "prompt_number": 1
    },
    {
     "cell_type": "code",
     "collapsed": false,
     "input": [
      "df = pd.read_csv(\"../data/credit-data-trainingset.csv\")\n",
      "df.head()"
     ],
     "language": "python",
     "metadata": {},
     "outputs": [
      {
       "html": [
        "<div style=\"max-height:1000px;max-width:1500px;overflow:auto;\">\n",
        "<table border=\"1\" class=\"dataframe\">\n",
        "  <thead>\n",
        "    <tr style=\"text-align: right;\">\n",
        "      <th></th>\n",
        "      <th>serious_dlqin2yrs</th>\n",
        "      <th>revolving_utilization_of_unsecured_lines</th>\n",
        "      <th>age</th>\n",
        "      <th>number_of_time30-59_days_past_due_not_worse</th>\n",
        "      <th>debt_ratio</th>\n",
        "      <th>monthly_income</th>\n",
        "      <th>number_of_open_credit_lines_and_loans</th>\n",
        "      <th>number_of_times90_days_late</th>\n",
        "      <th>number_real_estate_loans_or_lines</th>\n",
        "      <th>number_of_time60-89_days_past_due_not_worse</th>\n",
        "      <th>number_of_dependents</th>\n",
        "    </tr>\n",
        "  </thead>\n",
        "  <tbody>\n",
        "    <tr>\n",
        "      <th>0</th>\n",
        "      <td> 1</td>\n",
        "      <td> 0.766127</td>\n",
        "      <td> 45</td>\n",
        "      <td> 2</td>\n",
        "      <td> 0.802982</td>\n",
        "      <td>  9120</td>\n",
        "      <td> 13</td>\n",
        "      <td> 0</td>\n",
        "      <td> 6</td>\n",
        "      <td> 0</td>\n",
        "      <td> 2</td>\n",
        "    </tr>\n",
        "    <tr>\n",
        "      <th>1</th>\n",
        "      <td> 0</td>\n",
        "      <td> 0.957151</td>\n",
        "      <td> 40</td>\n",
        "      <td> 0</td>\n",
        "      <td> 0.121876</td>\n",
        "      <td>  2600</td>\n",
        "      <td>  4</td>\n",
        "      <td> 0</td>\n",
        "      <td> 0</td>\n",
        "      <td> 0</td>\n",
        "      <td> 1</td>\n",
        "    </tr>\n",
        "    <tr>\n",
        "      <th>2</th>\n",
        "      <td> 0</td>\n",
        "      <td> 0.658180</td>\n",
        "      <td> 38</td>\n",
        "      <td> 1</td>\n",
        "      <td> 0.085113</td>\n",
        "      <td>  3042</td>\n",
        "      <td>  2</td>\n",
        "      <td> 1</td>\n",
        "      <td> 0</td>\n",
        "      <td> 0</td>\n",
        "      <td> 0</td>\n",
        "    </tr>\n",
        "    <tr>\n",
        "      <th>3</th>\n",
        "      <td> 0</td>\n",
        "      <td> 0.907239</td>\n",
        "      <td> 49</td>\n",
        "      <td> 1</td>\n",
        "      <td> 0.024926</td>\n",
        "      <td> 63588</td>\n",
        "      <td>  7</td>\n",
        "      <td> 0</td>\n",
        "      <td> 1</td>\n",
        "      <td> 0</td>\n",
        "      <td> 0</td>\n",
        "    </tr>\n",
        "    <tr>\n",
        "      <th>4</th>\n",
        "      <td> 0</td>\n",
        "      <td> 0.213179</td>\n",
        "      <td> 74</td>\n",
        "      <td> 0</td>\n",
        "      <td> 0.375607</td>\n",
        "      <td>  3500</td>\n",
        "      <td>  3</td>\n",
        "      <td> 0</td>\n",
        "      <td> 1</td>\n",
        "      <td> 0</td>\n",
        "      <td> 1</td>\n",
        "    </tr>\n",
        "  </tbody>\n",
        "</table>\n",
        "</div>"
       ],
       "metadata": {},
       "output_type": "pyout",
       "prompt_number": 3,
       "text": [
        "   serious_dlqin2yrs  revolving_utilization_of_unsecured_lines  age  \\\n",
        "0                  1                                  0.766127   45   \n",
        "1                  0                                  0.957151   40   \n",
        "2                  0                                  0.658180   38   \n",
        "3                  0                                  0.907239   49   \n",
        "4                  0                                  0.213179   74   \n",
        "\n",
        "   number_of_time30-59_days_past_due_not_worse  debt_ratio  monthly_income  \\\n",
        "0                                            2    0.802982            9120   \n",
        "1                                            0    0.121876            2600   \n",
        "2                                            1    0.085113            3042   \n",
        "3                                            1    0.024926           63588   \n",
        "4                                            0    0.375607            3500   \n",
        "\n",
        "   number_of_open_credit_lines_and_loans  number_of_times90_days_late  \\\n",
        "0                                     13                            0   \n",
        "1                                      4                            0   \n",
        "2                                      2                            1   \n",
        "3                                      7                            0   \n",
        "4                                      3                            0   \n",
        "\n",
        "   number_real_estate_loans_or_lines  \\\n",
        "0                                  6   \n",
        "1                                  0   \n",
        "2                                  0   \n",
        "3                                  1   \n",
        "4                                  1   \n",
        "\n",
        "   number_of_time60-89_days_past_due_not_worse  number_of_dependents  \n",
        "0                                            0                     2  \n",
        "1                                            0                     1  \n",
        "2                                            0                     0  \n",
        "3                                            0                     0  \n",
        "4                                            0                     1  "
       ]
      }
     ],
     "prompt_number": 3
    },
    {
     "cell_type": "markdown",
     "metadata": {},
     "source": [
      "##Apply\n",
      "\"Applies\" or operates on a column in your data frame with a given function. This is analagous to an Excel formula."
     ]
    },
    {
     "cell_type": "code",
     "collapsed": false,
     "input": [
      "df.monthly_income.apply(np.log)"
     ],
     "language": "python",
     "metadata": {},
     "outputs": []
    },
    {
     "cell_type": "markdown",
     "metadata": {},
     "source": [
      "###Applying with lambda functions\n",
      "A `lambda` function is an anonymous function. Think of it just as a shorthand way to define a quick function that you need once."
     ]
    },
    {
     "cell_type": "code",
     "collapsed": false,
     "input": [
      "add_10 = lambda x: x + 10\n",
      "plus = lambda x, y: x + y\n",
      "\n",
      "print add_10(9)\n",
      "print plus(10, 20)"
     ],
     "language": "python",
     "metadata": {},
     "outputs": []
    },
    {
     "cell_type": "code",
     "collapsed": false,
     "input": [
      "df.monthly_income.apply(lambda x: np.log(x + 1))"
     ],
     "language": "python",
     "metadata": {},
     "outputs": []
    },
    {
     "cell_type": "markdown",
     "metadata": {},
     "source": [
      "###Using custom functions\n",
      "If you can't do it in a one-liner lambda function don't worry. `pandas` also let's `apply` your own custom functions. You can use custom functions when applying on Series and also when operating on chunks of data frames in `groupby`s."
     ]
    },
    {
     "cell_type": "code",
     "collapsed": false,
     "input": [
      "def inverse(x):\n",
      "    return 1 / (x + 1)\n",
      "\n",
      "df.monthly_income.apply(inverse)"
     ],
     "language": "python",
     "metadata": {},
     "outputs": []
    },
    {
     "cell_type": "markdown",
     "metadata": {},
     "source": [
      "####Write a custom function called `cap_value(x, cap)` that will set x to the cap if x > cap. Then apply it to debt_ratio with a cap of 5."
     ]
    },
    {
     "cell_type": "code",
     "collapsed": false,
     "input": [
      "def cap_value(x, cap):\n",
      "    \"\"\"\n",
      "    x - a value\n",
      "    cap - threshold value for x; if x > cap, then x is set to cap\n",
      "    Examples:\n",
      "        cap_value(1000, 10)\n",
      "        10\n",
      "        cap_value(10, 100)\n",
      "        10\n",
      "        \"\"\"\n",
      "    # your code here\n",
      "    return None\n",
      "print cap_value(1000, 10)==10\n",
      "print cap_value(10, 100)==10\n",
      "print df.debt_ratio.apply(lambda x: cap_value(x, 5.0)).mean()#should be close to 1.28"
     ],
     "language": "python",
     "metadata": {},
     "outputs": []
    },
    {
     "cell_type": "markdown",
     "metadata": {},
     "source": [
      "##Split -> Apply ->Combine\n",
      "Split, Apply, Combine is a data munging methodology similar in spirit to `SQL`'s `GROUP BY`. The idea being you split your data into chunks, operate on those chunks, and then combine the results together into a single table. `groupby` in `pandas` works exactly the same way. But since we're using Python and not SQL, we have a lot more flexibility in terms of the types of operations we can perform in the apply step.\n",
      "\n",
      "From the `pandas` documentation:\n",
      "\n",
      " - Splitting the data into groups based on some criteria\n",
      " - Applying a function to each group independently\n",
      " - Combining the results into a data structure"
     ]
    },
    {
     "cell_type": "markdown",
     "metadata": {},
     "source": [
      "###Split"
     ]
    },
    {
     "cell_type": "code",
     "collapsed": false,
     "input": [
      "subset = df[['serious_dlqin2yrs', 'age', 'monthly_income']]\n",
      "subset.groupby(\"serious_dlqin2yrs\")"
     ],
     "language": "python",
     "metadata": {},
     "outputs": []
    },
    {
     "cell_type": "markdown",
     "metadata": {},
     "source": [
      "###Apply / Combine\n",
      "Aggregate whatever is returned"
     ]
    },
    {
     "cell_type": "code",
     "collapsed": false,
     "input": [
      "subset.groupby(\"serious_dlqin2yrs\").mean()"
     ],
     "language": "python",
     "metadata": {},
     "outputs": []
    },
    {
     "cell_type": "code",
     "collapsed": false,
     "input": [],
     "language": "python",
     "metadata": {},
     "outputs": []
    },
    {
     "cell_type": "markdown",
     "metadata": {},
     "source": [
      "What's really going on here? You can see below that when you `groupby` a certain variable(s), you're literally splitting the data into chunks based on each possible value of that variable."
     ]
    },
    {
     "cell_type": "code",
     "collapsed": false,
     "input": [
      "for name, group in subset.groupby(\"serious_dlqin2yrs\"):\n",
      "    print \"splitting by: \", name\n",
      "    print group.mean()\n",
      "    print \"*\"*80"
     ],
     "language": "python",
     "metadata": {},
     "outputs": []
    },
    {
     "cell_type": "markdown",
     "metadata": {},
     "source": [
      "####Use groupby to calculate the percent of customers that went bad for each age"
     ]
    },
    {
     "cell_type": "code",
     "collapsed": false,
     "input": [],
     "language": "python",
     "metadata": {},
     "outputs": []
    },
    {
     "cell_type": "markdown",
     "metadata": {},
     "source": [
      "###You can also aggregate by multiple functions"
     ]
    },
    {
     "cell_type": "code",
     "collapsed": false,
     "input": [
      "subset.groupby(\"serious_dlqin2yrs\").agg([np.min, np.mean, np.median, np.max])"
     ],
     "language": "python",
     "metadata": {},
     "outputs": []
    },
    {
     "cell_type": "markdown",
     "metadata": {},
     "source": [
      "###`pandas` also let's you use custom apply functions"
     ]
    },
    {
     "cell_type": "code",
     "collapsed": false,
     "input": [
      "def age_x_income(frame):\n",
      "    x = (frame.age * frame.monthly_income)\n",
      "    return np.mean(x)\n",
      "\n",
      "subset.groupby(\"serious_dlqin2yrs\").apply(age_x_income)"
     ],
     "language": "python",
     "metadata": {},
     "outputs": []
    },
    {
     "cell_type": "markdown",
     "metadata": {},
     "source": [
      "###Merging and Joining"
     ]
    },
    {
     "cell_type": "code",
     "collapsed": false,
     "input": [
      "pop = pd.read_csv(\"./data/uspop.csv\")\n",
      "pop"
     ],
     "language": "python",
     "metadata": {},
     "outputs": []
    },
    {
     "cell_type": "code",
     "collapsed": false,
     "input": [
      "cols = ['age', 'monthly_income', 'serious_dlqin2yrs']\n",
      "result = pd.merge(df[cols] , pop, how='left', on='age')\n",
      "result"
     ],
     "language": "python",
     "metadata": {},
     "outputs": []
    },
    {
     "cell_type": "code",
     "collapsed": false,
     "input": [
      "len(result) > len(df)"
     ],
     "language": "python",
     "metadata": {},
     "outputs": []
    },
    {
     "cell_type": "code",
     "collapsed": false,
     "input": [
      "pd.value_counts(pop.age).head()"
     ],
     "language": "python",
     "metadata": {},
     "outputs": []
    },
    {
     "cell_type": "code",
     "collapsed": false,
     "input": [
      "pop = pop[pop.age.duplicated()==False]"
     ],
     "language": "python",
     "metadata": {},
     "outputs": []
    },
    {
     "cell_type": "code",
     "collapsed": false,
     "input": [
      "cols = ['age', 'monthly_income', 'serious_dlqin2yrs']\n",
      "joined = pd.merge(df[cols] , pop, how='left', on='age')"
     ],
     "language": "python",
     "metadata": {},
     "outputs": []
    },
    {
     "cell_type": "code",
     "collapsed": false,
     "input": [
      "pop.tail()"
     ],
     "language": "python",
     "metadata": {},
     "outputs": []
    },
    {
     "cell_type": "code",
     "collapsed": false,
     "input": [
      "joined.est_pop = joined.est_pop.fillna(4957.0)\n",
      "joined.est_pop.describe()"
     ],
     "language": "python",
     "metadata": {},
     "outputs": []
    },
    {
     "cell_type": "markdown",
     "metadata": {},
     "source": [
      "##`pandasql`\n",
      "Training wheels for `pandas`. We developed and open sourced `pandasql` to help people coming from other languages ease into the `pandas` syntax. It allows you to query `pandas` data frames like they were `SQL` tables."
     ]
    },
    {
     "cell_type": "code",
     "collapsed": false,
     "input": [
      "from pandasql import sqldf\n",
      "pysqldf = lambda q: sqldf(q, globals())"
     ],
     "language": "python",
     "metadata": {},
     "outputs": []
    },
    {
     "cell_type": "code",
     "collapsed": false,
     "input": [
      "query = \"\"\"\n",
      "select\n",
      "    serious_dlqin2yrs\n",
      "    , sum(1) as total\n",
      "from\n",
      "    df\n",
      "group by\n",
      "    serious_dlqin2yrs;\n",
      "\"\"\"\n",
      "pysqldf(query)"
     ],
     "language": "python",
     "metadata": {},
     "outputs": []
    },
    {
     "cell_type": "code",
     "collapsed": false,
     "input": [
      "query = \"\"\"\n",
      "select\n",
      "    age\n",
      "    , avg(serious_dlqin2yrs) as pct_delinquent\n",
      "from\n",
      "    df\n",
      "group by\n",
      "    age\n",
      "order by\n",
      "    age;\n",
      "\"\"\"\n",
      "pysqldf(query)"
     ],
     "language": "python",
     "metadata": {},
     "outputs": []
    },
    {
     "cell_type": "markdown",
     "metadata": {},
     "source": [
      "##We just did the following\n",
      "\n",
      "- Used `apply` to make custom data transformations\n",
      "- Did `groupby` and aggregate operations using `pandas`\n",
      "- Used both `pandas` and `pandasql` to merge data frames together"
     ]
    },
    {
     "cell_type": "code",
     "collapsed": false,
     "input": [],
     "language": "python",
     "metadata": {},
     "outputs": []
    }
   ],
   "metadata": {}
  }
 ]
}