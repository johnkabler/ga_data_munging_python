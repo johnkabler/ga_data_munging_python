{
 "metadata": {
  "name": ""
 },
 "nbformat": 3,
 "nbformat_minor": 0,
 "worksheets": [
  {
   "cells": [
    {
     "cell_type": "code",
     "collapsed": false,
     "input": [
      "import pandas as pd\n",
      "pd.set_option('display.mpl_style', 'default')\n",
      "#figsize(15, 3)\n",
      "%matplotlib inline"
     ],
     "language": "python",
     "metadata": {},
     "outputs": [],
     "prompt_number": 1
    },
    {
     "cell_type": "markdown",
     "metadata": {},
     "source": [
      "We saw earlier that pandas is really good at dealing with dates. It is also amazing with strings! We're going to go back to our weather data from Chapter 5, here."
     ]
    },
    {
     "cell_type": "code",
     "collapsed": false,
     "input": [
      "weather_2012 = pd.read_csv('../data/weather_2012.csv', parse_dates=True, index_col='Date/Time')\n",
      "weather_2012[:5]"
     ],
     "language": "python",
     "metadata": {},
     "outputs": [
      {
       "html": [
        "<div style=\"max-height:1000px;max-width:1500px;overflow:auto;\">\n",
        "<table border=\"1\" class=\"dataframe\">\n",
        "  <thead>\n",
        "    <tr style=\"text-align: right;\">\n",
        "      <th></th>\n",
        "      <th>Temp (C)</th>\n",
        "      <th>Dew Point Temp (C)</th>\n",
        "      <th>Rel Hum (%)</th>\n",
        "      <th>Wind Spd (km/h)</th>\n",
        "      <th>Visibility (km)</th>\n",
        "      <th>Stn Press (kPa)</th>\n",
        "      <th>Weather</th>\n",
        "    </tr>\n",
        "    <tr>\n",
        "      <th>Date/Time</th>\n",
        "      <th></th>\n",
        "      <th></th>\n",
        "      <th></th>\n",
        "      <th></th>\n",
        "      <th></th>\n",
        "      <th></th>\n",
        "      <th></th>\n",
        "    </tr>\n",
        "  </thead>\n",
        "  <tbody>\n",
        "    <tr>\n",
        "      <th>2012-01-01 00:00:00</th>\n",
        "      <td>-1.8</td>\n",
        "      <td>-3.9</td>\n",
        "      <td> 86</td>\n",
        "      <td> 4</td>\n",
        "      <td> 8.0</td>\n",
        "      <td> 101.24</td>\n",
        "      <td>                  Fog</td>\n",
        "    </tr>\n",
        "    <tr>\n",
        "      <th>2012-01-01 01:00:00</th>\n",
        "      <td>-1.8</td>\n",
        "      <td>-3.7</td>\n",
        "      <td> 87</td>\n",
        "      <td> 4</td>\n",
        "      <td> 8.0</td>\n",
        "      <td> 101.24</td>\n",
        "      <td>                  Fog</td>\n",
        "    </tr>\n",
        "    <tr>\n",
        "      <th>2012-01-01 02:00:00</th>\n",
        "      <td>-1.8</td>\n",
        "      <td>-3.4</td>\n",
        "      <td> 89</td>\n",
        "      <td> 7</td>\n",
        "      <td> 4.0</td>\n",
        "      <td> 101.26</td>\n",
        "      <td> Freezing Drizzle,Fog</td>\n",
        "    </tr>\n",
        "    <tr>\n",
        "      <th>2012-01-01 03:00:00</th>\n",
        "      <td>-1.5</td>\n",
        "      <td>-3.2</td>\n",
        "      <td> 88</td>\n",
        "      <td> 6</td>\n",
        "      <td> 4.0</td>\n",
        "      <td> 101.27</td>\n",
        "      <td> Freezing Drizzle,Fog</td>\n",
        "    </tr>\n",
        "    <tr>\n",
        "      <th>2012-01-01 04:00:00</th>\n",
        "      <td>-1.5</td>\n",
        "      <td>-3.3</td>\n",
        "      <td> 88</td>\n",
        "      <td> 7</td>\n",
        "      <td> 4.8</td>\n",
        "      <td> 101.23</td>\n",
        "      <td>                  Fog</td>\n",
        "    </tr>\n",
        "  </tbody>\n",
        "</table>\n",
        "</div>"
       ],
       "metadata": {},
       "output_type": "pyout",
       "prompt_number": 2,
       "text": [
        "                     Temp (C)  Dew Point Temp (C)  Rel Hum (%)  \\\n",
        "Date/Time                                                        \n",
        "2012-01-01 00:00:00      -1.8                -3.9           86   \n",
        "2012-01-01 01:00:00      -1.8                -3.7           87   \n",
        "2012-01-01 02:00:00      -1.8                -3.4           89   \n",
        "2012-01-01 03:00:00      -1.5                -3.2           88   \n",
        "2012-01-01 04:00:00      -1.5                -3.3           88   \n",
        "\n",
        "                     Wind Spd (km/h)  Visibility (km)  Stn Press (kPa)  \\\n",
        "Date/Time                                                                \n",
        "2012-01-01 00:00:00                4              8.0           101.24   \n",
        "2012-01-01 01:00:00                4              8.0           101.24   \n",
        "2012-01-01 02:00:00                7              4.0           101.26   \n",
        "2012-01-01 03:00:00                6              4.0           101.27   \n",
        "2012-01-01 04:00:00                7              4.8           101.23   \n",
        "\n",
        "                                  Weather  \n",
        "Date/Time                                  \n",
        "2012-01-01 00:00:00                   Fog  \n",
        "2012-01-01 01:00:00                   Fog  \n",
        "2012-01-01 02:00:00  Freezing Drizzle,Fog  \n",
        "2012-01-01 03:00:00  Freezing Drizzle,Fog  \n",
        "2012-01-01 04:00:00                   Fog  "
       ]
      }
     ],
     "prompt_number": 2
    },
    {
     "cell_type": "markdown",
     "metadata": {},
     "source": [
      "# 6.1 String operations"
     ]
    },
    {
     "cell_type": "markdown",
     "metadata": {},
     "source": [
      "You'll see that the 'Weather' column has a text description of the weather that was going on each hour. We'll assume it's snowing if the text description contains \"Snow\".\n",
      "\n",
      "pandas provides vectorized string functions, to make it easy to operate on columns containing text. There are some great [examples](http://pandas.pydata.org/pandas-docs/stable/basics.html#vectorized-string-methods) in the documentation."
     ]
    },
    {
     "cell_type": "code",
     "collapsed": false,
     "input": [
      "weather_description = weather_2012['Weather']\n",
      "is_snowing = weather_description.str.contains('Snow')"
     ],
     "language": "python",
     "metadata": {},
     "outputs": [],
     "prompt_number": 3
    },
    {
     "cell_type": "markdown",
     "metadata": {},
     "source": [
      "This gives us a binary vector, which is a bit hard to look at, so we'll plot it."
     ]
    },
    {
     "cell_type": "code",
     "collapsed": false,
     "input": [
      "# Not super useful\n",
      "is_snowing[:5]"
     ],
     "language": "python",
     "metadata": {},
     "outputs": [
      {
       "metadata": {},
       "output_type": "pyout",
       "prompt_number": 4,
       "text": [
        "Date/Time\n",
        "2012-01-01 00:00:00    False\n",
        "2012-01-01 01:00:00    False\n",
        "2012-01-01 02:00:00    False\n",
        "2012-01-01 03:00:00    False\n",
        "2012-01-01 04:00:00    False\n",
        "Name: Weather, dtype: bool"
       ]
      }
     ],
     "prompt_number": 4
    },
    {
     "cell_type": "code",
     "collapsed": false,
     "input": [
      "# More useful!\n",
      "is_snowing.plot(figsize=(15,5))"
     ],
     "language": "python",
     "metadata": {},
     "outputs": [
      {
       "metadata": {},
       "output_type": "pyout",
       "prompt_number": 8,
       "text": [
        "<matplotlib.axes.AxesSubplot at 0x10779fd10>"
       ]
      },
      {
       "metadata": {},
       "output_type": "display_data",
       "png": "[encoded data removed]",
       "text": [
        "<matplotlib.figure.Figure at 0x10568e110>"
       ]
      }
     ],
     "prompt_number": 8
    },
    {
     "cell_type": "markdown",
     "metadata": {},
     "source": [
      "# 6.2 Use resampling to find the snowiest month"
     ]
    },
    {
     "cell_type": "markdown",
     "metadata": {},
     "source": [
      "If we wanted the median temperature each month, we could use the `resample()` method like this:"
     ]
    },
    {
     "cell_type": "code",
     "collapsed": false,
     "input": [
      "import numpy as np"
     ],
     "language": "python",
     "metadata": {},
     "outputs": [],
     "prompt_number": 10
    },
    {
     "cell_type": "code",
     "collapsed": false,
     "input": [
      "weather_2012['Temp (C)'].resample('D', how=np.median)"
     ],
     "language": "python",
     "metadata": {},
     "outputs": [
      {
       "metadata": {},
       "output_type": "pyout",
       "prompt_number": 11,
       "text": [
        "Date/Time\n",
        "2012-01-01    -0.35\n",
        "2012-01-02     1.60\n",
        "2012-01-03   -14.90\n",
        "2012-01-04   -13.95\n",
        "2012-01-05    -6.65\n",
        "2012-01-06   -11.25\n",
        "2012-01-07    -5.45\n",
        "2012-01-08    -6.50\n",
        "2012-01-09    -3.10\n",
        "2012-01-10     0.75\n",
        "2012-01-11   -12.00\n",
        "2012-01-12    -5.90\n",
        "2012-01-13    -4.80\n",
        "2012-01-14   -17.25\n",
        "2012-01-15   -18.65\n",
        "...\n",
        "2012-12-17     0.45\n",
        "2012-12-18     0.75\n",
        "2012-12-19     0.60\n",
        "2012-12-20    -0.50\n",
        "2012-12-21     1.20\n",
        "2012-12-22    -4.40\n",
        "2012-12-23    -8.10\n",
        "2012-12-24    -9.65\n",
        "2012-12-25    -9.90\n",
        "2012-12-26   -10.80\n",
        "2012-12-27    -5.40\n",
        "2012-12-28    -6.35\n",
        "2012-12-29   -10.70\n",
        "2012-12-30   -11.75\n",
        "2012-12-31    -6.25\n",
        "Freq: D, Length: 366, dtype: float64"
       ]
      }
     ],
     "prompt_number": 11
    },
    {
     "cell_type": "code",
     "collapsed": false,
     "input": [
      "weather_2012['Temp (C)'].resample('M', how=np.median).plot(kind='bar')"
     ],
     "language": "python",
     "metadata": {},
     "outputs": [
      {
       "metadata": {},
       "output_type": "pyout",
       "prompt_number": 12,
       "text": [
        "<matplotlib.axes.AxesSubplot at 0x107c5b850>"
       ]
      },
      {
       "metadata": {},
       "output_type": "display_data",
       "png": "[encoded data removed]",
       "text": [
        "<matplotlib.figure.Figure at 0x107c5ecd0>"
       ]
      }
     ],
     "prompt_number": 12
    },
    {
     "cell_type": "markdown",
     "metadata": {},
     "source": [
      "Unsurprisingly, July and August are the warmest."
     ]
    },
    {
     "cell_type": "markdown",
     "metadata": {},
     "source": [
      "So we can think of snowiness as being a bunch of 1s and 0s instead of `True`s and `False`s:"
     ]
    },
    {
     "cell_type": "code",
     "collapsed": false,
     "input": [
      "is_snowing.astype(float)[:10]"
     ],
     "language": "python",
     "metadata": {},
     "outputs": [
      {
       "metadata": {},
       "output_type": "pyout",
       "prompt_number": 13,
       "text": [
        "Date/Time\n",
        "2012-01-01 00:00:00    0\n",
        "2012-01-01 01:00:00    0\n",
        "2012-01-01 02:00:00    0\n",
        "2012-01-01 03:00:00    0\n",
        "2012-01-01 04:00:00    0\n",
        "2012-01-01 05:00:00    0\n",
        "2012-01-01 06:00:00    0\n",
        "2012-01-01 07:00:00    0\n",
        "2012-01-01 08:00:00    0\n",
        "2012-01-01 09:00:00    0\n",
        "Name: Weather, dtype: float64"
       ]
      }
     ],
     "prompt_number": 13
    },
    {
     "cell_type": "markdown",
     "metadata": {},
     "source": [
      "and then use `resample` to find the percentage of time it was snowing each month"
     ]
    },
    {
     "cell_type": "code",
     "collapsed": false,
     "input": [
      "is_snowing.astype(float).resample('M', how=np.mean)"
     ],
     "language": "python",
     "metadata": {},
     "outputs": [
      {
       "metadata": {},
       "output_type": "pyout",
       "prompt_number": 14,
       "text": [
        "Date/Time\n",
        "2012-01-31    0.240591\n",
        "2012-02-29    0.162356\n",
        "2012-03-31    0.087366\n",
        "2012-04-30    0.015278\n",
        "2012-05-31    0.000000\n",
        "2012-06-30    0.000000\n",
        "2012-07-31    0.000000\n",
        "2012-08-31    0.000000\n",
        "2012-09-30    0.000000\n",
        "2012-10-31    0.000000\n",
        "2012-11-30    0.038889\n",
        "2012-12-31    0.251344\n",
        "Freq: M, dtype: float64"
       ]
      }
     ],
     "prompt_number": 14
    },
    {
     "cell_type": "code",
     "collapsed": false,
     "input": [
      "is_snowing.astype(float).resample('M', how=np.mean).plot(kind='bar',figsize=(15,5))"
     ],
     "language": "python",
     "metadata": {},
     "outputs": [
      {
       "metadata": {},
       "output_type": "pyout",
       "prompt_number": 16,
       "text": [
        "<matplotlib.axes.AxesSubplot at 0x10864b090>"
       ]
      },
      {
       "metadata": {},
       "output_type": "display_data",
       "png": "[encoded data removed]",
       "text": [
        "<matplotlib.figure.Figure at 0x108654ed0>"
       ]
      }
     ],
     "prompt_number": 16
    },
    {
     "cell_type": "markdown",
     "metadata": {},
     "source": [
      "So now we know! In 2012, December was the snowiest month. Also, this graph suggests something that I feel -- it starts snowing pretty abruptly in November, and then tapers off slowly and takes a long time to stop, with the last snow usually being in April or May."
     ]
    },
    {
     "cell_type": "markdown",
     "metadata": {},
     "source": [
      "# 6.3 Plotting temperature and snowiness stats together"
     ]
    },
    {
     "cell_type": "markdown",
     "metadata": {},
     "source": [
      "We can also combine these two statistics (temperature, and snowiness) into one dataframe and plot them together:"
     ]
    },
    {
     "cell_type": "code",
     "collapsed": false,
     "input": [
      "temperature = weather_2012['Temp (C)'].resample('M', how=np.median)\n",
      "is_snowing = weather_2012['Weather'].str.contains('Snow')\n",
      "snowiness = is_snowing.astype(float).resample('M', how=np.mean)\n",
      "\n",
      "# Name the columns\n",
      "temperature.name = \"Temperature\"\n",
      "snowiness.name = \"Snowiness\""
     ],
     "language": "python",
     "metadata": {},
     "outputs": [],
     "prompt_number": 17
    },
    {
     "cell_type": "markdown",
     "metadata": {},
     "source": [
      "We'll use `concat` again to combine the two statistics into a single dataframe."
     ]
    },
    {
     "cell_type": "code",
     "collapsed": false,
     "input": [
      "stats = pd.concat([temperature, snowiness], axis=1)\n",
      "stats"
     ],
     "language": "python",
     "metadata": {},
     "outputs": [
      {
       "html": [
        "<div style=\"max-height:1000px;max-width:1500px;overflow:auto;\">\n",
        "<table border=\"1\" class=\"dataframe\">\n",
        "  <thead>\n",
        "    <tr style=\"text-align: right;\">\n",
        "      <th></th>\n",
        "      <th>Temperature</th>\n",
        "      <th>Snowiness</th>\n",
        "    </tr>\n",
        "    <tr>\n",
        "      <th>Date/Time</th>\n",
        "      <th></th>\n",
        "      <th></th>\n",
        "    </tr>\n",
        "  </thead>\n",
        "  <tbody>\n",
        "    <tr>\n",
        "      <th>2012-01-31</th>\n",
        "      <td> -7.05</td>\n",
        "      <td> 0.240591</td>\n",
        "    </tr>\n",
        "    <tr>\n",
        "      <th>2012-02-29</th>\n",
        "      <td> -4.10</td>\n",
        "      <td> 0.162356</td>\n",
        "    </tr>\n",
        "    <tr>\n",
        "      <th>2012-03-31</th>\n",
        "      <td>  2.60</td>\n",
        "      <td> 0.087366</td>\n",
        "    </tr>\n",
        "    <tr>\n",
        "      <th>2012-04-30</th>\n",
        "      <td>  6.30</td>\n",
        "      <td> 0.015278</td>\n",
        "    </tr>\n",
        "    <tr>\n",
        "      <th>2012-05-31</th>\n",
        "      <td> 16.05</td>\n",
        "      <td> 0.000000</td>\n",
        "    </tr>\n",
        "    <tr>\n",
        "      <th>2012-06-30</th>\n",
        "      <td> 19.60</td>\n",
        "      <td> 0.000000</td>\n",
        "    </tr>\n",
        "    <tr>\n",
        "      <th>2012-07-31</th>\n",
        "      <td> 22.90</td>\n",
        "      <td> 0.000000</td>\n",
        "    </tr>\n",
        "    <tr>\n",
        "      <th>2012-08-31</th>\n",
        "      <td> 22.20</td>\n",
        "      <td> 0.000000</td>\n",
        "    </tr>\n",
        "    <tr>\n",
        "      <th>2012-09-30</th>\n",
        "      <td> 16.10</td>\n",
        "      <td> 0.000000</td>\n",
        "    </tr>\n",
        "    <tr>\n",
        "      <th>2012-10-31</th>\n",
        "      <td> 11.30</td>\n",
        "      <td> 0.000000</td>\n",
        "    </tr>\n",
        "    <tr>\n",
        "      <th>2012-11-30</th>\n",
        "      <td>  1.05</td>\n",
        "      <td> 0.038889</td>\n",
        "    </tr>\n",
        "    <tr>\n",
        "      <th>2012-12-31</th>\n",
        "      <td> -2.85</td>\n",
        "      <td> 0.251344</td>\n",
        "    </tr>\n",
        "  </tbody>\n",
        "</table>\n",
        "</div>"
       ],
       "metadata": {},
       "output_type": "pyout",
       "prompt_number": 18,
       "text": [
        "            Temperature  Snowiness\n",
        "Date/Time                         \n",
        "2012-01-31        -7.05   0.240591\n",
        "2012-02-29        -4.10   0.162356\n",
        "2012-03-31         2.60   0.087366\n",
        "2012-04-30         6.30   0.015278\n",
        "2012-05-31        16.05   0.000000\n",
        "2012-06-30        19.60   0.000000\n",
        "2012-07-31        22.90   0.000000\n",
        "2012-08-31        22.20   0.000000\n",
        "2012-09-30        16.10   0.000000\n",
        "2012-10-31        11.30   0.000000\n",
        "2012-11-30         1.05   0.038889\n",
        "2012-12-31        -2.85   0.251344"
       ]
      }
     ],
     "prompt_number": 18
    },
    {
     "cell_type": "code",
     "collapsed": false,
     "input": [
      "stats.plot(kind='bar',stacked=True)"
     ],
     "language": "python",
     "metadata": {},
     "outputs": [
      {
       "metadata": {},
       "output_type": "pyout",
       "prompt_number": 20,
       "text": [
        "<matplotlib.axes.AxesSubplot at 0x10868e2d0>"
       ]
      },
      {
       "metadata": {},
       "output_type": "display_data",
       "png": "[encoded data removed]",
       "text": [
        "<matplotlib.figure.Figure at 0x107c72d90>"
       ]
      }
     ],
     "prompt_number": 20
    },
    {
     "cell_type": "markdown",
     "metadata": {},
     "source": [
      "Uh, that didn't work so well because the scale was wrong. We can do better by plotting them on two separate graphs:"
     ]
    },
    {
     "cell_type": "code",
     "collapsed": false,
     "input": [
      "stats.plot(kind='bar', subplots=True, figsize=(15, 10))"
     ],
     "language": "python",
     "metadata": {},
     "outputs": [
      {
       "metadata": {},
       "output_type": "pyout",
       "prompt_number": 21,
       "text": [
        "array([<matplotlib.axes.AxesSubplot object at 0x10951e390>,\n",
        "       <matplotlib.axes.AxesSubplot object at 0x10a614e10>], dtype=object)"
       ]
      },
      {
       "metadata": {},
       "output_type": "display_data",
       "png": "[encoded data removed]",
       "text": [
        "<matplotlib.figure.Figure at 0x10950ed50>"
       ]
      }
     ],
     "prompt_number": 21
    },
    {
     "cell_type": "markdown",
     "metadata": {},
     "source": [
      "<style>\n",
      "    @font-face {\n",
      "        font-family: \"Computer Modern\";\n",
      "        src: url('http://mirrors.ctan.org/fonts/cm-unicode/fonts/otf/cmunss.otf');\n",
      "    }\n",
      "    div.cell{\n",
      "        width:800px;\n",
      "        margin-left:16% !important;\n",
      "        margin-right:auto;\n",
      "    }\n",
      "    h1 {\n",
      "        font-family: Helvetica, serif;\n",
      "    }\n",
      "    h4{\n",
      "        margin-top:12px;\n",
      "        margin-bottom: 3px;\n",
      "       }\n",
      "    div.text_cell_render{\n",
      "        font-family: Computer Modern, \"Helvetica Neue\", Arial, Helvetica, Geneva, sans-serif;\n",
      "        line-height: 145%;\n",
      "        font-size: 130%;\n",
      "        width:800px;\n",
      "        margin-left:auto;\n",
      "        margin-right:auto;\n",
      "    }\n",
      "    .CodeMirror{\n",
      "            font-family: \"Source Code Pro\", source-code-pro,Consolas, monospace;\n",
      "    }\n",
      "    .text_cell_render h5 {\n",
      "        font-weight: 300;\n",
      "        font-size: 22pt;\n",
      "        color: #4057A1;\n",
      "        font-style: italic;\n",
      "        margin-bottom: .5em;\n",
      "        margin-top: 0.5em;\n",
      "        display: block;\n",
      "    }\n",
      "    \n",
      "    .warning{\n",
      "        color: rgb( 240, 20, 20 )\n",
      "        }  "
     ]
    }
   ],
   "metadata": {}
  }
 ]
}