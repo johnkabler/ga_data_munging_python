{
 "metadata": {
  "name": ""
 },
 "nbformat": 3,
 "nbformat_minor": 0,
 "worksheets": [
  {
   "cells": [
    {
     "cell_type": "code",
     "collapsed": false,
     "input": [
      "import pandas as pd\n",
      "pd.set_option('display.mpl_style', 'default')\n",
      "%pylab inline"
     ],
     "language": "python",
     "metadata": {},
     "outputs": [
      {
       "output_type": "stream",
       "stream": "stdout",
       "text": [
        "Populating the interactive namespace from numpy and matplotlib\n"
       ]
      },
      {
       "output_type": "stream",
       "stream": "stderr",
       "text": [
        "/Users/johnkabler/anaconda/lib/python2.7/site-packages/pytz/__init__.py:35: UserWarning: Module argparse was already imported from /Users/johnkabler/anaconda/python.app/Contents/lib/python2.7/argparse.pyc, but /Users/johnkabler/anaconda/lib/python2.7/site-packages is being added to sys.path\n",
        "  from pkg_resources import resource_stream\n"
       ]
      }
     ],
     "prompt_number": 1
    },
    {
     "cell_type": "markdown",
     "metadata": {},
     "source": [
      "### Excel is everywhere, even if you hate it\n",
      "\n",
      "* It's good to know how to work with Excel files, because it is the single most common format for business data in standard office environments (Dunder Mifflin, as opposed to Aviato)\n",
      "* ![](http://cdn.wegotthiscovered.com/wp-content/uploads/T.J.-Miller-in-Silicon-Valley.jpg)\n",
      "* Producing things in file formats that the \"bosses\" use such as Excel is a great way to quickly introduce Python (and open source tools in general) into an organization's workflow"
     ]
    },
    {
     "cell_type": "markdown",
     "metadata": {},
     "source": [
      "First, we have to read in our Excel file, called '2010_Rosslyn_Custis_Bike_Data.xlsx'.  Unlike a CSV file, we have to do an extra step.  Excel files are \"workbooks\" which can contain multiple tabs.  "
     ]
    },
    {
     "cell_type": "code",
     "collapsed": false,
     "input": [
      "kb_2010_excel_file = pd.ExcelFile('2010_Rosslyn_Custis_Bike_Data.xlsx')"
     ],
     "language": "python",
     "metadata": {},
     "outputs": [],
     "prompt_number": 2
    },
    {
     "cell_type": "markdown",
     "metadata": {},
     "source": [
      "Mini-Exercise:  \n",
      "\n",
      "This is a real-world simulation.  We're going to pretend you don't have a teacher guiding you for a second.  Let's practice figuring something out on our own by taking advantage of Google, Stack Overflow, and numerous extremely helpful blogs.  \n",
      "\n",
      "Use Google (or your references in the notebook) to figure out how to read an Excel sheet into a Pandas DataFrame.  Remember, the first part (reading in the file) is already done for you.  The next step is to read one of the sheets in the Excel File into a Pandas DataFrame.  \n",
      "\n",
      "Make sure that the Pandas DataFrame you create is named:\n",
      "\n",
      "kb_2010_excel\n",
      "\n",
      "### hint:  Type in to the code window \"kb_2010_excel_file.\" and then hit the \"tab\" key.  Look at the various options you are given.  Explore them."
     ]
    },
    {
     "cell_type": "code",
     "collapsed": false,
     "input": [],
     "language": "python",
     "metadata": {},
     "outputs": []
    },
    {
     "cell_type": "code",
     "collapsed": false,
     "input": [
      "kb_2010_excel = kb_2010_excel_file.parse('Sheet1')"
     ],
     "language": "python",
     "metadata": {},
     "outputs": [],
     "prompt_number": 8
    },
    {
     "cell_type": "code",
     "collapsed": false,
     "input": [
      "kb_2010_excel[:5]"
     ],
     "language": "python",
     "metadata": {},
     "outputs": [
      {
       "html": [
        "<div style=\"max-height:1000px;max-width:1500px;overflow:auto;\">\n",
        "<table border=\"1\" class=\"dataframe\">\n",
        "  <thead>\n",
        "    <tr style=\"text-align: right;\">\n",
        "      <th></th>\n",
        "      <th>Date</th>\n",
        "      <th>Time</th>\n",
        "      <th>Custis Rosslyn</th>\n",
        "      <th>Custis Rosslyn Ped</th>\n",
        "      <th>Custis Rosslyn Bike</th>\n",
        "    </tr>\n",
        "  </thead>\n",
        "  <tbody>\n",
        "    <tr>\n",
        "      <th>0</th>\n",
        "      <td> 2010-01-01 00:00:00</td>\n",
        "      <td> 00:00:00</td>\n",
        "      <td> 0</td>\n",
        "      <td> 0</td>\n",
        "      <td> 0</td>\n",
        "    </tr>\n",
        "    <tr>\n",
        "      <th>1</th>\n",
        "      <td> 2010-01-01 00:00:00</td>\n",
        "      <td> 00:15:00</td>\n",
        "      <td> 0</td>\n",
        "      <td> 0</td>\n",
        "      <td> 0</td>\n",
        "    </tr>\n",
        "    <tr>\n",
        "      <th>2</th>\n",
        "      <td> 2010-01-01 00:00:00</td>\n",
        "      <td> 00:30:00</td>\n",
        "      <td> 0</td>\n",
        "      <td> 0</td>\n",
        "      <td> 0</td>\n",
        "    </tr>\n",
        "    <tr>\n",
        "      <th>3</th>\n",
        "      <td> 2010-01-01 00:00:00</td>\n",
        "      <td> 00:45:00</td>\n",
        "      <td> 0</td>\n",
        "      <td> 0</td>\n",
        "      <td> 0</td>\n",
        "    </tr>\n",
        "    <tr>\n",
        "      <th>4</th>\n",
        "      <td> 2010-01-01 00:00:00</td>\n",
        "      <td> 01:00:00</td>\n",
        "      <td> 1</td>\n",
        "      <td> 0</td>\n",
        "      <td> 1</td>\n",
        "    </tr>\n",
        "  </tbody>\n",
        "</table>\n",
        "</div>"
       ],
       "metadata": {},
       "output_type": "pyout",
       "prompt_number": 9,
       "text": [
        "                  Date      Time  Custis Rosslyn  Custis Rosslyn Ped  \\\n",
        "0  2010-01-01 00:00:00  00:00:00               0                   0   \n",
        "1  2010-01-01 00:00:00  00:15:00               0                   0   \n",
        "2  2010-01-01 00:00:00  00:30:00               0                   0   \n",
        "3  2010-01-01 00:00:00  00:45:00               0                   0   \n",
        "4  2010-01-01 00:00:00  01:00:00               1                   0   \n",
        "\n",
        "   Custis Rosslyn Bike  \n",
        "0                    0  \n",
        "1                    0  \n",
        "2                    0  \n",
        "3                    0  \n",
        "4                    1  "
       ]
      }
     ],
     "prompt_number": 9
    },
    {
     "cell_type": "markdown",
     "metadata": {},
     "source": [
      "One catch here:  \n",
      "\n",
      "We want to have tell Pandas that the \"Date\" column should be treated as a special \"Date\" data type.  \n",
      "\n",
      "We also want to tell Pandas to use that \"Date\" as the index for the DataFrame.  \n",
      "\n",
      "How do we do this?  \n",
      "\n",
      "Use the same command you did before to read the DataFrame from the Excel File, but this time examine the options you have by reading the \"help\" for the command.  \n",
      "\n",
      "Let's read the sheet into a DataFrame object (use the same name as before) but this time let's read the dates in properly and make them the index.  \n",
      "\n",
      "### Hint:  Look for options related to \"date\" and \"index\"  "
     ]
    },
    {
     "cell_type": "code",
     "collapsed": false,
     "input": [
      "### Put code here to read in the DataFrame so that it appears the way it does below"
     ],
     "language": "python",
     "metadata": {},
     "outputs": [],
     "prompt_number": 17
    },
    {
     "cell_type": "code",
     "collapsed": false,
     "input": [
      "kb_2010_excel[:5]"
     ],
     "language": "python",
     "metadata": {},
     "outputs": [
      {
       "html": [
        "<div style=\"max-height:1000px;max-width:1500px;overflow:auto;\">\n",
        "<table border=\"1\" class=\"dataframe\">\n",
        "  <thead>\n",
        "    <tr style=\"text-align: right;\">\n",
        "      <th></th>\n",
        "      <th>Time</th>\n",
        "      <th>Custis Rosslyn</th>\n",
        "      <th>Custis Rosslyn Ped</th>\n",
        "      <th>Custis Rosslyn Bike</th>\n",
        "    </tr>\n",
        "    <tr>\n",
        "      <th>Date</th>\n",
        "      <th></th>\n",
        "      <th></th>\n",
        "      <th></th>\n",
        "      <th></th>\n",
        "    </tr>\n",
        "  </thead>\n",
        "  <tbody>\n",
        "    <tr>\n",
        "      <th>2010-01-01</th>\n",
        "      <td> 00:00:00</td>\n",
        "      <td> 0</td>\n",
        "      <td> 0</td>\n",
        "      <td> 0</td>\n",
        "    </tr>\n",
        "    <tr>\n",
        "      <th>2010-01-01</th>\n",
        "      <td> 00:15:00</td>\n",
        "      <td> 0</td>\n",
        "      <td> 0</td>\n",
        "      <td> 0</td>\n",
        "    </tr>\n",
        "    <tr>\n",
        "      <th>2010-01-01</th>\n",
        "      <td> 00:30:00</td>\n",
        "      <td> 0</td>\n",
        "      <td> 0</td>\n",
        "      <td> 0</td>\n",
        "    </tr>\n",
        "    <tr>\n",
        "      <th>2010-01-01</th>\n",
        "      <td> 00:45:00</td>\n",
        "      <td> 0</td>\n",
        "      <td> 0</td>\n",
        "      <td> 0</td>\n",
        "    </tr>\n",
        "    <tr>\n",
        "      <th>2010-01-01</th>\n",
        "      <td> 01:00:00</td>\n",
        "      <td> 1</td>\n",
        "      <td> 0</td>\n",
        "      <td> 1</td>\n",
        "    </tr>\n",
        "  </tbody>\n",
        "</table>\n",
        "</div>"
       ],
       "metadata": {},
       "output_type": "pyout",
       "prompt_number": 15,
       "text": [
        "                Time  Custis Rosslyn  Custis Rosslyn Ped  Custis Rosslyn Bike\n",
        "Date                                                                         \n",
        "2010-01-01  00:00:00               0                   0                    0\n",
        "2010-01-01  00:15:00               0                   0                    0\n",
        "2010-01-01  00:30:00               0                   0                    0\n",
        "2010-01-01  00:45:00               0                   0                    0\n",
        "2010-01-01  01:00:00               1                   0                    1"
       ]
      }
     ],
     "prompt_number": 15
    },
    {
     "cell_type": "markdown",
     "metadata": {},
     "source": [
      "Take a minute to try typing things with the new object, or \"DataFrame\", called kb_2010_excel.  I'll be telling you commands, and just type along.  You can hit the save button on the top left and anything you type, including code and notes, will be saved in here for your future reference.  "
     ]
    },
    {
     "cell_type": "markdown",
     "metadata": {},
     "source": [
      "### What time of day, on average, are the bike trails in Arlington the most busy?  How do we go about answering this question?\n",
      "\n",
      "This is an interesting question:  Is it the morning and evenings, when bike commuters are travelling to/from work?  Or is it some other time?  Let's take a look"
     ]
    },
    {
     "cell_type": "code",
     "collapsed": false,
     "input": [
      "kb_2010_excel.info"
     ],
     "language": "python",
     "metadata": {},
     "outputs": [
      {
       "metadata": {},
       "output_type": "pyout",
       "prompt_number": 16,
       "text": [
        "<bound method DataFrame.info of <class 'pandas.core.frame.DataFrame'>\n",
        "DatetimeIndex: 35040 entries, 2010-01-01 00:00:00 to 2010-12-31 00:00:00\n",
        "Data columns (total 4 columns):\n",
        "Time                   35040  non-null values\n",
        "Custis Rosslyn         35036  non-null values\n",
        "Custis Rosslyn Ped     35036  non-null values\n",
        "Custis Rosslyn Bike    35036  non-null values\n",
        "dtypes: float64(3), object(1)>"
       ]
      }
     ],
     "prompt_number": 16
    },
    {
     "cell_type": "markdown",
     "metadata": {},
     "source": [
      "Ok, so we have over 35,000 rows of data collected from counters installed along the Martha Custis Trail in the Rosslyn neighborhood of Arlington, VA.  (right next to the Key Bridge, which allows cyclists to cross from DC to VA and vice versa.)  \n",
      "\n",
      "The way the sensor works is that it counts the number of bikes which roll past, and each line in the file is a count for a 15 minute period of time.  \n",
      "\n",
      "Time series data can get complicated quickly.  We're just going to do some simple stuff here to find out what time of day (on average) is busiest.  "
     ]
    },
    {
     "cell_type": "code",
     "collapsed": false,
     "input": [
      "average_bikes_by_time = kb_2010_excel.groupby('Time').aggregate(np.mean)"
     ],
     "language": "python",
     "metadata": {},
     "outputs": []
    },
    {
     "cell_type": "code",
     "collapsed": false,
     "input": [
      "average_bikes_by_time['Custis Rosslyn Bike'].plot(figsize=(15,5))"
     ],
     "language": "python",
     "metadata": {},
     "outputs": []
    },
    {
     "cell_type": "markdown",
     "metadata": {},
     "source": [
      "### Most cyclists are travelling during commuter hours!!  \n",
      "\n",
      "As you can see, the peak average traffic occurs at 8:20 AM and roughly 6:00 PM.  \n",
      "Let's get a better look at the specific times of peak traffic.  "
     ]
    },
    {
     "cell_type": "code",
     "collapsed": false,
     "input": [
      "average_bikes_by_time.sort(columns='Custis Rosslyn Bike', ascending=False)[:7]"
     ],
     "language": "python",
     "metadata": {},
     "outputs": []
    },
    {
     "cell_type": "markdown",
     "metadata": {},
     "source": [
      "Now we have a much more specific answer to the peak times for cyclists.  \n",
      "\n",
      "Try this:  \n",
      "\n",
      "Try to use the same formula in the steps above, but this time find the peak times for pedestrians.  Remember, the column is called 'Custis Rosslyn Ped'.  "
     ]
    },
    {
     "cell_type": "code",
     "collapsed": false,
     "input": [
      "#Place code here"
     ],
     "language": "python",
     "metadata": {},
     "outputs": []
    },
    {
     "cell_type": "code",
     "collapsed": false,
     "input": [],
     "language": "python",
     "metadata": {},
     "outputs": []
    },
    {
     "cell_type": "code",
     "collapsed": false,
     "input": [],
     "language": "python",
     "metadata": {},
     "outputs": []
    },
    {
     "cell_type": "code",
     "collapsed": false,
     "input": [
      "kb_2010['Custis Rosslyn Bike'].plot(figsize=(20,10))"
     ],
     "language": "python",
     "metadata": {},
     "outputs": []
    },
    {
     "cell_type": "code",
     "collapsed": false,
     "input": [
      "kb_2010.index.day"
     ],
     "language": "python",
     "metadata": {},
     "outputs": []
    },
    {
     "cell_type": "code",
     "collapsed": false,
     "input": [
      "kb_2010.index.weekday"
     ],
     "language": "python",
     "metadata": {},
     "outputs": []
    },
    {
     "cell_type": "code",
     "collapsed": false,
     "input": [
      "kb_2010['day_of_week'] = kb_2010.index.weekday"
     ],
     "language": "python",
     "metadata": {},
     "outputs": []
    },
    {
     "cell_type": "code",
     "collapsed": false,
     "input": [
      "kb_2010_weekday = kb_2010.groupby('day_of_week').aggregate(np.sum)"
     ],
     "language": "python",
     "metadata": {},
     "outputs": []
    },
    {
     "cell_type": "code",
     "collapsed": false,
     "input": [
      "kb_2010_weekday"
     ],
     "language": "python",
     "metadata": {},
     "outputs": []
    },
    {
     "cell_type": "code",
     "collapsed": false,
     "input": [
      "kb_2010_weekday.index = ['Monday', 'Tuesday', 'Wednesday', 'Thursday', 'Friday', 'Saturday', 'Sunday']"
     ],
     "language": "python",
     "metadata": {},
     "outputs": []
    },
    {
     "cell_type": "code",
     "collapsed": false,
     "input": [
      "kb_2010_weekday"
     ],
     "language": "python",
     "metadata": {},
     "outputs": []
    },
    {
     "cell_type": "code",
     "collapsed": false,
     "input": [
      "kb_2010_weekday.plot()"
     ],
     "language": "python",
     "metadata": {},
     "outputs": []
    },
    {
     "cell_type": "code",
     "collapsed": false,
     "input": [
      "kb_2010.index.month"
     ],
     "language": "python",
     "metadata": {},
     "outputs": []
    },
    {
     "cell_type": "code",
     "collapsed": false,
     "input": [
      "kb_2010['month'] = kb_2010.index.month"
     ],
     "language": "python",
     "metadata": {},
     "outputs": []
    },
    {
     "cell_type": "code",
     "collapsed": false,
     "input": [
      "kb_2010['day'] = kb_2010.index.day"
     ],
     "language": "python",
     "metadata": {},
     "outputs": []
    },
    {
     "cell_type": "code",
     "collapsed": false,
     "input": [
      "kb_2010_sums = kb_2010.groupby(['month', 'day']).aggregate(np.sum)"
     ],
     "language": "python",
     "metadata": {},
     "outputs": []
    },
    {
     "cell_type": "code",
     "collapsed": false,
     "input": [
      "kb_2010_sums"
     ],
     "language": "python",
     "metadata": {},
     "outputs": []
    },
    {
     "cell_type": "code",
     "collapsed": false,
     "input": [
      "kb_2010_sums.plot(figsize=(20,10))"
     ],
     "language": "python",
     "metadata": {},
     "outputs": []
    }
   ],
   "metadata": {}
  }
 ]
}