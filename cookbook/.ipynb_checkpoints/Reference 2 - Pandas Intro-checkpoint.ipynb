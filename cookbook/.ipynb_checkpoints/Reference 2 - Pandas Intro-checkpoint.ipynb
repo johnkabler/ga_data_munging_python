{
 "metadata": {
  "name": ""
 },
 "nbformat": 3,
 "nbformat_minor": 0,
 "worksheets": [
  {
   "cells": [
    {
     "cell_type": "markdown",
     "metadata": {},
     "source": [
      "##In this notebook you will\n",
      "\n",
      "- Learn how to load data into Python\n",
      "- Learn the basics of working with data in `pandas`\n",
      "- Clean and manage your data\n",
      "- Wrangle missing data"
     ]
    },
    {
     "cell_type": "markdown",
     "metadata": {},
     "source": [
      "##Reading from a file"
     ]
    },
    {
     "cell_type": "code",
     "collapsed": false,
     "input": [
      "import pandas as pd\n",
      "import pylab as pl\n",
      "import numpy as np\n",
      "import re"
     ],
     "language": "python",
     "metadata": {},
     "outputs": []
    },
    {
     "cell_type": "code",
     "collapsed": false,
     "input": [
      "np.sum"
     ],
     "language": "python",
     "metadata": {},
     "outputs": []
    },
    {
     "cell_type": "markdown",
     "metadata": {},
     "source": [
      "We're going to use the <code>read_csv</code> function in pandas"
     ]
    },
    {
     "cell_type": "code",
     "collapsed": false,
     "input": [
      "?pd.read_csv"
     ],
     "language": "python",
     "metadata": {},
     "outputs": []
    },
    {
     "cell_type": "code",
     "collapsed": false,
     "input": [
      "! head -n 2 ./data/credit-training.csv"
     ],
     "language": "python",
     "metadata": {},
     "outputs": []
    },
    {
     "cell_type": "code",
     "collapsed": false,
     "input": [
      "df = pd.read_csv(\"./data/credit-training.csv\")"
     ],
     "language": "python",
     "metadata": {},
     "outputs": []
    },
    {
     "cell_type": "markdown",
     "metadata": {},
     "source": [
      "##What is <code>df</code>?\n",
      "Our data is represented by a DataFrame. You can think of data frames as a giant spreadsheet which you can program. It's a collection of series (or columns) with a common set of commands that make managing data in Python super easy."
     ]
    },
    {
     "cell_type": "code",
     "collapsed": false,
     "input": [
      "#barf!!!\n",
      "df"
     ],
     "language": "python",
     "metadata": {},
     "outputs": []
    },
    {
     "cell_type": "code",
     "collapsed": false,
     "input": [
      "#you'll learn more about head() later\n",
      "df.head()"
     ],
     "language": "python",
     "metadata": {},
     "outputs": []
    },
    {
     "cell_type": "code",
     "collapsed": false,
     "input": [
      "type(df)"
     ],
     "language": "python",
     "metadata": {},
     "outputs": []
    },
    {
     "cell_type": "markdown",
     "metadata": {},
     "source": [
      "You can think of a Series is a column in your data. A series will have a particular datatype associated with it. Datatypes can be integers, strings, floating point numbers, etc."
     ]
    },
    {
     "cell_type": "code",
     "collapsed": false,
     "input": [
      "print df.SeriousDlqin2yrs.head()\n",
      "type(df.SeriousDlqin2yrs)"
     ],
     "language": "python",
     "metadata": {},
     "outputs": []
    },
    {
     "cell_type": "code",
     "collapsed": false,
     "input": [
      "df.dtypes"
     ],
     "language": "python",
     "metadata": {},
     "outputs": []
    },
    {
     "cell_type": "markdown",
     "metadata": {},
     "source": [
      "##Basic Commands\n",
      "Many of these commands will be familiar for those of you coming from a UNIX/Linux background. If not, don't sweat it, these commands are super easy, but extremely helpful for \"taking a look around\" at your data."
     ]
    },
    {
     "cell_type": "markdown",
     "metadata": {},
     "source": [
      "###Selecting a column"
     ]
    },
    {
     "cell_type": "code",
     "collapsed": false,
     "input": [
      "df['DebtRatio']\n",
      "df.DebtRatio"
     ],
     "language": "python",
     "metadata": {},
     "outputs": []
    },
    {
     "cell_type": "markdown",
     "metadata": {},
     "source": [
      "###head(n=5)"
     ]
    },
    {
     "cell_type": "code",
     "collapsed": false,
     "input": [
      "df.head()"
     ],
     "language": "python",
     "metadata": {},
     "outputs": []
    },
    {
     "cell_type": "code",
     "collapsed": false,
     "input": [
      "df.head(1)"
     ],
     "language": "python",
     "metadata": {},
     "outputs": []
    },
    {
     "cell_type": "code",
     "collapsed": false,
     "input": [
      "df.SeriousDlqin2yrs.head()"
     ],
     "language": "python",
     "metadata": {},
     "outputs": []
    },
    {
     "cell_type": "markdown",
     "metadata": {},
     "source": [
      "###tail(n=5)"
     ]
    },
    {
     "cell_type": "code",
     "collapsed": false,
     "input": [
      "df.tail()"
     ],
     "language": "python",
     "metadata": {},
     "outputs": []
    },
    {
     "cell_type": "code",
     "collapsed": false,
     "input": [
      "df.RevolvingUtilizationOfUnsecuredLines.tail()"
     ],
     "language": "python",
     "metadata": {},
     "outputs": []
    },
    {
     "cell_type": "markdown",
     "metadata": {},
     "source": [
      "###describe(percentile_width=50)"
     ]
    },
    {
     "cell_type": "code",
     "collapsed": false,
     "input": [
      "df.describe()"
     ],
     "language": "python",
     "metadata": {},
     "outputs": []
    },
    {
     "cell_type": "code",
     "collapsed": false,
     "input": [
      "df.age.describe(percentile_width=25)"
     ],
     "language": "python",
     "metadata": {},
     "outputs": []
    },
    {
     "cell_type": "markdown",
     "metadata": {},
     "source": [
      "###unqiue() and nunique()"
     ]
    },
    {
     "cell_type": "code",
     "collapsed": false,
     "input": [
      "df.NumberOfDependents.unique()"
     ],
     "language": "python",
     "metadata": {},
     "outputs": []
    },
    {
     "cell_type": "code",
     "collapsed": false,
     "input": [
      "df.NumberOfDependents.nunique()"
     ],
     "language": "python",
     "metadata": {},
     "outputs": []
    },
    {
     "cell_type": "markdown",
     "metadata": {},
     "source": [
      "###pd.value_counts(values_to_count)"
     ]
    },
    {
     "cell_type": "code",
     "collapsed": false,
     "input": [
      "pd.value_counts(df.NumberOfDependents)\n",
      "df.NumberOfDependents.value_counts()"
     ],
     "language": "python",
     "metadata": {},
     "outputs": []
    },
    {
     "cell_type": "code",
     "collapsed": false,
     "input": [
      "pd.value_counts(df.NumberOfDependents, ascending=True)"
     ],
     "language": "python",
     "metadata": {},
     "outputs": []
    },
    {
     "cell_type": "code",
     "collapsed": false,
     "input": [
      "pd.value_counts(df.NumberOfDependents, sort=False)"
     ],
     "language": "python",
     "metadata": {},
     "outputs": []
    },
    {
     "cell_type": "code",
     "collapsed": false,
     "input": [
      "#chain value_counts together with head() to give you the top 3\n",
      "pd.value_counts(df.NumberOfDependents).head(3)"
     ],
     "language": "python",
     "metadata": {},
     "outputs": []
    },
    {
     "cell_type": "code",
     "collapsed": false,
     "input": [
      "%pylab inline"
     ],
     "language": "python",
     "metadata": {},
     "outputs": []
    },
    {
     "cell_type": "code",
     "collapsed": false,
     "input": [
      "pd.value_counts(df.NumberOfDependents).plot(kind='bar')"
     ],
     "language": "python",
     "metadata": {},
     "outputs": []
    },
    {
     "cell_type": "markdown",
     "metadata": {},
     "source": [
      "##pd.crosstab(rows, cols)"
     ]
    },
    {
     "cell_type": "code",
     "collapsed": false,
     "input": [
      "pd.crosstab(df.NumberOfTimes90DaysLate, df.SeriousDlqin2yrs)"
     ],
     "language": "python",
     "metadata": {},
     "outputs": []
    },
    {
     "cell_type": "markdown",
     "metadata": {},
     "source": [
      "####Use `pd.crosstab` to make a table that contains customer's ages in the lefthand column and the number of dependents they have in the right"
     ]
    },
    {
     "cell_type": "code",
     "collapsed": false,
     "input": [
      "pd.crosstab(df.age, df.NumberOfDependents)[:3]"
     ],
     "language": "python",
     "metadata": {},
     "outputs": []
    },
    {
     "cell_type": "code",
     "collapsed": false,
     "input": [
      "pd.crosstab(df.age, df.NumberOfDependents)"
     ],
     "language": "python",
     "metadata": {},
     "outputs": []
    },
    {
     "cell_type": "markdown",
     "metadata": {},
     "source": [
      "##Basic Cleanliness"
     ]
    },
    {
     "cell_type": "markdown",
     "metadata": {},
     "source": [
      "Let's fix for formatting of the column names. I personally like snake_case (and so does Python). I found [this handy function](http://stackoverflow.com/questions/1175208/elegant-python-function-to-convert-camelcase-to-camel-case) on stackoverflow for converting camelCase to snake_case.\n",
      "\n",
      "Now we can apply the camel_to_snake function on each column name."
     ]
    },
    {
     "cell_type": "code",
     "collapsed": false,
     "input": [
      "%load https://gist.github.com/glamp/6529725/raw/e38ffd2fc4cb840be21098486ffe5df991946736/camel_to_snake.py"
     ],
     "language": "python",
     "metadata": {},
     "outputs": []
    },
    {
     "cell_type": "code",
     "collapsed": false,
     "input": [
      "def camel_to_snake(column_name):\n",
      "    \"\"\"\n",
      "    converts a string that is camelCase into snake_case\n",
      "    Example:\n",
      "        print camel_to_snake(\"javaLovesCamelCase\")\n",
      "        > java_loves_camel_case\n",
      "    See Also:\n",
      "        http://stackoverflow.com/questions/1175208/elegant-python-function-to-convert-camelcase-to-camel-case\n",
      "    \"\"\"\n",
      "    s1 = re.sub('(.)([A-Z][a-z]+)', r'\\1_\\2', column_name)\n",
      "    return re.sub('([a-z0-9])([A-Z])', r'\\1_\\2', s1).lower()"
     ],
     "language": "python",
     "metadata": {},
     "outputs": []
    },
    {
     "cell_type": "code",
     "collapsed": false,
     "input": [
      "def camel_to_snake(column_name):\n",
      "    \"\"\"\n",
      "    converts a string that is camelCase into snake_case\n",
      "    Example:\n",
      "        print camel_to_snake(\"javaLovesCamelCase\")\n",
      "        > java_loves_camel_case\n",
      "    See Also:\n",
      "        http://stackoverflow.com/questions/1175208/elegant-python-function-to-convert-camelcase-to-camel-case\n",
      "    \"\"\"\n",
      "    s1 = re.sub('(.)([A-Z][a-z]+)', r'\\1_\\2', column_name)\n",
      "    return re.sub('([a-z0-9])([A-Z])', r'\\1_\\2', s1).lower()"
     ],
     "language": "python",
     "metadata": {},
     "outputs": []
    },
    {
     "cell_type": "code",
     "collapsed": false,
     "input": [
      "camel_to_snake(\"javaLovesCamelCase\")"
     ],
     "language": "python",
     "metadata": {},
     "outputs": []
    },
    {
     "cell_type": "code",
     "collapsed": false,
     "input": [
      "df.columns = [camel_to_snake(col) for col in df.columns]\n",
      "df.columns.tolist()"
     ],
     "language": "python",
     "metadata": {},
     "outputs": []
    },
    {
     "cell_type": "markdown",
     "metadata": {},
     "source": [
      "##Slicing and Indexing Data\n",
      "pandas (like R) uses a system of boolean indexing. What this means is that when selecting particular rows or columns in your dataset..."
     ]
    },
    {
     "cell_type": "markdown",
     "metadata": {},
     "source": [
      "###Grabbing columns"
     ]
    },
    {
     "cell_type": "code",
     "collapsed": false,
     "input": [
      "df['monthly_income'].head()\n",
      "df.monthly_income.head()"
     ],
     "language": "python",
     "metadata": {},
     "outputs": []
    },
    {
     "cell_type": "code",
     "collapsed": false,
     "input": [
      "df[['monthly_income', 'serious_dlqin2yrs']].head()"
     ],
     "language": "python",
     "metadata": {},
     "outputs": []
    },
    {
     "cell_type": "code",
     "collapsed": false,
     "input": [
      "columns_i_want = ['monthly_income', 'serious_dlqin2yrs']\n",
      "df[columns_i_want].head()"
     ],
     "language": "python",
     "metadata": {},
     "outputs": []
    },
    {
     "cell_type": "markdown",
     "metadata": {},
     "source": [
      "##Adding Columns"
     ]
    },
    {
     "cell_type": "code",
     "collapsed": false,
     "input": [
      "df.newcolumn = 1\n",
      "# this will throw an error\n",
      "df['newcolumn']"
     ],
     "language": "python",
     "metadata": {},
     "outputs": []
    },
    {
     "cell_type": "code",
     "collapsed": false,
     "input": [
      "df['one'] = 1\n",
      "df.one.head()"
     ],
     "language": "python",
     "metadata": {},
     "outputs": []
    },
    {
     "cell_type": "markdown",
     "metadata": {},
     "source": [
      "###Removing a column"
     ]
    },
    {
     "cell_type": "code",
     "collapsed": false,
     "input": [
      "del df['one']"
     ],
     "language": "python",
     "metadata": {},
     "outputs": []
    },
    {
     "cell_type": "markdown",
     "metadata": {},
     "source": [
      "###Boolean Indexing"
     ]
    },
    {
     "cell_type": "code",
     "collapsed": false,
     "input": [
      "df.monthly_income > 5000"
     ],
     "language": "python",
     "metadata": {},
     "outputs": []
    },
    {
     "cell_type": "code",
     "collapsed": false,
     "input": [
      "gt_5k = df[df.monthly_income > 5000]\n",
      "print len(gt_5k),\"people with monthly_income > 5000\"\n",
      "df[df.monthly_income > 5000].head()"
     ],
     "language": "python",
     "metadata": {},
     "outputs": []
    },
    {
     "cell_type": "code",
     "collapsed": false,
     "input": [
      "df.ix[40:45, 0:2]"
     ],
     "language": "python",
     "metadata": {},
     "outputs": []
    },
    {
     "cell_type": "code",
     "collapsed": false,
     "input": [
      "mask = (df.monthly_income > 5000) & (df.serious_dlqin2yrs==1)\n",
      "df[mask].head()"
     ],
     "language": "python",
     "metadata": {},
     "outputs": []
    },
    {
     "cell_type": "markdown",
     "metadata": {},
     "source": [
      "###Write some code that filters to the following:\n",
      "\n",
      "- people 35 or older\n",
      "- who have not been delinquent in the past 2 years\n",
      "- who have less than 10 open credit lines/loans"
     ]
    },
    {
     "cell_type": "code",
     "collapsed": false,
     "input": [
      "mask = (df.age >= 35) & (df.serious_dlqin2yrs == 0) & (df.number_of_open_credit_lines_and_loans < 10)\n",
      "df[mask].head()"
     ],
     "language": "python",
     "metadata": {},
     "outputs": []
    },
    {
     "cell_type": "markdown",
     "metadata": {},
     "source": [
      "####Write something that filters:\n",
      "\n",
      "- people who have been delinquent in the past 2 years\n",
      "- have are in the 90th percentile for monthly_income\n",
      "\n",
      "*HINT: use `quantile`*"
     ]
    },
    {
     "cell_type": "code",
     "collapsed": false,
     "input": [
      "mask = (df.monthly_income > df.monthly_income.quantile(.90)) & (df.serious_dlqin2yrs == 1)\n",
      "df[mask].head()"
     ],
     "language": "python",
     "metadata": {},
     "outputs": []
    },
    {
     "cell_type": "markdown",
     "metadata": {},
     "source": [
      "##Handling Missing Values\n",
      "One of the most frustrating parts of data science can be handling null or missing data. pandas has a lot of built in features for making is super easy to handle missing data. The first thing we need to do is determine which fields have missing data. To do that we're going to use `pd.melt`."
     ]
    },
    {
     "cell_type": "markdown",
     "metadata": {},
     "source": [
      "###[Long vs. Wide Data](http://en.wikipedia.org/wiki/Wide_and_narrow_data)\n",
      "Depending on the problem you're solving, you may need to rotate between having your data in wide/long format.\n",
      "\n",
      "Wide data is probably what you think of when the work \"spreadsheet\" comes to mind. We're talking about data in which each row represents 1 datapoint and each value is in a particular column. This is well suited for things like modeling and producing summary statistics.\n",
      "\n",
      "I often find that having data in `long` format is often best for doing the same task against multiple variables. Things like plotting distributions of each variable, making frequency tables, or, in our case, determining what portion of a dataframe's variables are null."
     ]
    },
    {
     "cell_type": "markdown",
     "metadata": {},
     "source": [
      "###pd.melt()\n",
      "For converting data from `wide` to `long` format.\n",
      "```\n",
      ">>> df\n",
      "A B C\n",
      "a 1 2\n",
      "b 3 4\n",
      "c 5 6\n",
      "\n",
      ">>> pd.melt(df, id_vars=['A'], value_vars=['B'])\n",
      "A variable value\n",
      "a B        1\n",
      "b B        3\n",
      "c B        5\n",
      "```"
     ]
    },
    {
     "cell_type": "code",
     "collapsed": false,
     "input": [
      "?pd.melt"
     ],
     "language": "python",
     "metadata": {},
     "outputs": []
    },
    {
     "cell_type": "code",
     "collapsed": false,
     "input": [
      "# By not specifying id_vars, we're going to melt EVERYTHING\n",
      "df_lng = pd.melt(df)\n",
      "# now our data is a series of (key, value) rows. \n",
      "#think of when you've done this in Excel so that you can\n",
      "#create a pivot table \n",
      "df_lng.head()"
     ],
     "language": "python",
     "metadata": {},
     "outputs": []
    },
    {
     "cell_type": "code",
     "collapsed": false,
     "input": [
      "null_variables = df_lng.value.isnull()\n",
      "null_variables.sum()"
     ],
     "language": "python",
     "metadata": {},
     "outputs": []
    },
    {
     "cell_type": "code",
     "collapsed": false,
     "input": [
      "# crosstab creates a frequency table between 2 variables\n",
      "# it's going to automatically enumerate the possibilities between\n",
      "# the two Series and show you a count of occurrences \n",
      "#in each possible bucket\n",
      "pd.crosstab(df_lng.variable, null_variables)"
     ],
     "language": "python",
     "metadata": {},
     "outputs": []
    },
    {
     "cell_type": "code",
     "collapsed": false,
     "input": [
      "# let's abstract that code into a function so we can easily \n",
      "# recalculate it\n",
      "def print_null_freq(df):\n",
      "    \"\"\"\n",
      "    for a given DataFrame, calculates how many values for \n",
      "    each variable is null and prints the resulting table to stdout\n",
      "    \"\"\"\n",
      "    df_lng = pd.melt(df)\n",
      "    null_variables = df_lng.value.isnull()\n",
      "    return pd.crosstab(df_lng.variable, null_variables)\n",
      "print_null_freq(df)"
     ],
     "language": "python",
     "metadata": {},
     "outputs": []
    },
    {
     "cell_type": "markdown",
     "metadata": {},
     "source": [
      "####Use pd.melt to create a data frame in the following format:\n",
      "```\n",
      "     serious_dlqin2yrs variable\t  value\n",
      "0\t                1\t age\t    45\n",
      "1\t                0\t age\t    40\n",
      "2\t                0\t age\t    38\n",
      "3\t                0\t age\t    30\n",
      "4\t                0\t age\t    49\n",
      "...\t                ...\t ...\t    ...\n",
      "299999              1\t debt_ratio 0.423\n",
      "300000              0\t debt_ratio 0.8923\n",
      "```\n",
      "Only include values for `age` and `debt_ratio`"
     ]
    },
    {
     "cell_type": "code",
     "collapsed": false,
     "input": [
      "melted = pd.melt(df, id_vars=['serious_dlqin2yrs'], value_vars=['age', 'debt_ratio'])\n",
      "\n",
      "print len(melted)==300000\n",
      "print melted.variable.unique()==np.array(['age', 'debt_ratio'])"
     ],
     "language": "python",
     "metadata": {},
     "outputs": []
    },
    {
     "cell_type": "code",
     "collapsed": false,
     "input": [
      "melted.head()"
     ],
     "language": "python",
     "metadata": {},
     "outputs": []
    },
    {
     "cell_type": "markdown",
     "metadata": {},
     "source": [
      "###Filling NA's"
     ]
    },
    {
     "cell_type": "code",
     "collapsed": false,
     "input": [
      "s = pd.Series([1, 2, None, 4])\n",
      "s"
     ],
     "language": "python",
     "metadata": {},
     "outputs": []
    },
    {
     "cell_type": "code",
     "collapsed": false,
     "input": [
      "s.fillna(3)"
     ],
     "language": "python",
     "metadata": {},
     "outputs": []
    },
    {
     "cell_type": "code",
     "collapsed": false,
     "input": [
      "s.ffill()"
     ],
     "language": "python",
     "metadata": {},
     "outputs": []
    },
    {
     "cell_type": "code",
     "collapsed": false,
     "input": [
      "s.bfill()"
     ],
     "language": "python",
     "metadata": {},
     "outputs": []
    },
    {
     "cell_type": "code",
     "collapsed": false,
     "input": [
      "s.fillna(s.mean())"
     ],
     "language": "python",
     "metadata": {},
     "outputs": []
    },
    {
     "cell_type": "markdown",
     "metadata": {},
     "source": [
      "If you look at `df` you can see that there are 2 columns which don't have a full 150,000 values: `monthly_income` and `number_of_dependents`. In order to incorporate these variables into our analysis, we need to specify how to treat these missing values."
     ]
    },
    {
     "cell_type": "markdown",
     "metadata": {},
     "source": [
      "For number_of_dependents let's keep things simple and intuitive. if someone didn't specify how many dependents they had then let's assume it's becasue they don't have any to begin with."
     ]
    },
    {
     "cell_type": "code",
     "collapsed": false,
     "input": [
      "df.number_of_dependents = df.number_of_dependents.fillna(0)\n",
      "# proof that the number_of_dependents no longer contains nulls\n",
      "print_null_freq(df)"
     ],
     "language": "python",
     "metadata": {},
     "outputs": []
    },
    {
     "cell_type": "markdown",
     "metadata": {},
     "source": [
      "Taking a look at `monthly_income` we see that it's a bit more complicated than `number_of_dependents`. We have a few options for replacing missing data. We could do something like set it to the mean or median or the dataset but this might skew our distribution. We could also set it to 0 but this might not be right either. Instead we're going to use a technique called imputation. We'll go into this more after we take a look at `scikit-learn`."
     ]
    },
    {
     "cell_type": "code",
     "collapsed": false,
     "input": [
      "df.monthly_income.describe()"
     ],
     "language": "python",
     "metadata": {},
     "outputs": []
    },
    {
     "cell_type": "code",
     "collapsed": false,
     "input": [
      "df.to_csv(\"./data/credit-data-post-import.csv\", index=False)"
     ],
     "language": "python",
     "metadata": {},
     "outputs": []
    },
    {
     "cell_type": "markdown",
     "metadata": {},
     "source": [
      "##We just did the following\n",
      "\n",
      "- Used `read_csv` to load data Python\n",
      "- Used `head`, `tail`, `unique`, and other functions to inspect our data\n",
      "- Sliced data and selected data frames\n",
      "- Cleaned our data and learned the basics of handling missing values"
     ]
    },
    {
     "cell_type": "code",
     "collapsed": false,
     "input": [],
     "language": "python",
     "metadata": {},
     "outputs": []
    }
   ],
   "metadata": {}
  }
 ]
}