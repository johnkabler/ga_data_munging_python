{
 "metadata": {
  "name": ""
 },
 "nbformat": 3,
 "nbformat_minor": 0,
 "worksheets": [
  {
   "cells": [
    {
     "cell_type": "markdown",
     "metadata": {},
     "source": [
      "Here we are doing the typical setup stuff.  We import the pandas library and call it \"pd\" so we don't have to write it all the way out when we call the functions it uses.  \n",
      "\n",
      "Also, we set some options to:\n",
      "\n",
      "\n",
      "1) Make the plots prettier than the default\n",
      "\n",
      "2) We use %pylab inline to tell Ipython to put the plots inside of our window instead of in a new popup window.  "
     ]
    },
    {
     "cell_type": "code",
     "collapsed": false,
     "input": [
      "import pandas as pd\n",
      "pd.set_option('display.mpl_style', 'default')\n",
      "%pylab inline"
     ],
     "language": "python",
     "metadata": {},
     "outputs": [
      {
       "output_type": "stream",
       "stream": "stdout",
       "text": [
        "Populating the interactive namespace from numpy and matplotlib\n"
       ]
      },
      {
       "output_type": "stream",
       "stream": "stderr",
       "text": [
        "/Users/johnkabler/anaconda/lib/python2.7/site-packages/pytz/__init__.py:35: UserWarning: Module argparse was already imported from /Users/johnkabler/anaconda/python.app/Contents/lib/python2.7/argparse.pyc, but /Users/johnkabler/anaconda/lib/python2.7/site-packages is being added to sys.path\n",
        "  from pkg_resources import resource_stream\n"
       ]
      }
     ],
     "prompt_number": 1
    },
    {
     "cell_type": "markdown",
     "metadata": {},
     "source": [
      "### Import the weather data\n",
      "\n",
      "I requested a file from the NOAA website.  NOAA is a government agency that knows a lot about the weather.  Apparently their scientists are too busy doing weather stuff to make their data freely available without jumping through hoops.  I eventually got the file, for 2010 weather data observed at Reagan Airport (DCA) in Arlington.  It's in CSV format, like most public data.  \n",
      "\n",
      "Let's pull it in.  "
     ]
    },
    {
     "cell_type": "code",
     "collapsed": false,
     "input": [
      "## code"
     ],
     "language": "python",
     "metadata": {},
     "outputs": []
    },
    {
     "cell_type": "markdown",
     "metadata": {},
     "source": [
      "Now that the file is pulled into memory as a dataframe, let's examine the first 5 rows:\n"
     ]
    },
    {
     "cell_type": "code",
     "collapsed": false,
     "input": [
      "weather_2010[:5]"
     ],
     "language": "python",
     "metadata": {},
     "outputs": []
    },
    {
     "cell_type": "markdown",
     "metadata": {},
     "source": [
      "Notice something??  The dataframe has an extra column on the left that was automatically generated.  That's the index.  Normally, this is fine, but in this case we have timeseries data.  We want to make the 'DATE' column the index so that when we plot it does it by date.  \n",
      "\n",
      "Also, we can merge it with other timeseries data to see how weather correlates with other data.  \n",
      "\n",
      "Let's pull it in now, but this time with the additional commands needed to get the date as the index.  "
     ]
    },
    {
     "cell_type": "code",
     "collapsed": false,
     "input": [
      "#code here"
     ],
     "language": "python",
     "metadata": {},
     "outputs": [],
     "prompt_number": 8
    },
    {
     "cell_type": "code",
     "collapsed": false,
     "input": [
      "weather_2010[:5]"
     ],
     "language": "python",
     "metadata": {},
     "outputs": [
      {
       "html": [
        "<div style=\"max-height:1000px;max-width:1500px;overflow:auto;\">\n",
        "<table border=\"1\" class=\"dataframe\">\n",
        "  <thead>\n",
        "    <tr style=\"text-align: right;\">\n",
        "      <th></th>\n",
        "      <th>STATION</th>\n",
        "      <th>STATION_NAME</th>\n",
        "      <th>HLY-DEWP-NORMAL</th>\n",
        "      <th>HLY-HIDX-NORMAL</th>\n",
        "      <th>HLY-TEMP-NORMAL</th>\n",
        "      <th>HLY-WCHL-NORMAL</th>\n",
        "      <th>HLY-WIND-AVGSPD</th>\n",
        "    </tr>\n",
        "    <tr>\n",
        "      <th>DATE</th>\n",
        "      <th></th>\n",
        "      <th></th>\n",
        "      <th></th>\n",
        "      <th></th>\n",
        "      <th></th>\n",
        "      <th></th>\n",
        "      <th></th>\n",
        "    </tr>\n",
        "  </thead>\n",
        "  <tbody>\n",
        "    <tr>\n",
        "      <th>2010-01-01 00:00:00</th>\n",
        "      <td> GHCND:USW00013743</td>\n",
        "      <td> WASHINGTON REAGAN NATIONAL AIRPORT VA US</td>\n",
        "      <td> 260</td>\n",
        "      <td> 361</td>\n",
        "      <td> 361</td>\n",
        "      <td> 304</td>\n",
        "      <td> 84</td>\n",
        "    </tr>\n",
        "    <tr>\n",
        "      <th>2010-01-01 01:00:00</th>\n",
        "      <td> GHCND:USW00013743</td>\n",
        "      <td> WASHINGTON REAGAN NATIONAL AIRPORT VA US</td>\n",
        "      <td> 260</td>\n",
        "      <td> 356</td>\n",
        "      <td> 356</td>\n",
        "      <td> 298</td>\n",
        "      <td> 83</td>\n",
        "    </tr>\n",
        "    <tr>\n",
        "      <th>2010-01-01 02:00:00</th>\n",
        "      <td> GHCND:USW00013743</td>\n",
        "      <td> WASHINGTON REAGAN NATIONAL AIRPORT VA US</td>\n",
        "      <td> 259</td>\n",
        "      <td> 352</td>\n",
        "      <td> 352</td>\n",
        "      <td> 294</td>\n",
        "      <td> 82</td>\n",
        "    </tr>\n",
        "    <tr>\n",
        "      <th>2010-01-01 03:00:00</th>\n",
        "      <td> GHCND:USW00013743</td>\n",
        "      <td> WASHINGTON REAGAN NATIONAL AIRPORT VA US</td>\n",
        "      <td> 260</td>\n",
        "      <td> 350</td>\n",
        "      <td> 350</td>\n",
        "      <td> 294</td>\n",
        "      <td> 81</td>\n",
        "    </tr>\n",
        "    <tr>\n",
        "      <th>2010-01-01 04:00:00</th>\n",
        "      <td> GHCND:USW00013743</td>\n",
        "      <td> WASHINGTON REAGAN NATIONAL AIRPORT VA US</td>\n",
        "      <td> 260</td>\n",
        "      <td> 350</td>\n",
        "      <td> 349</td>\n",
        "      <td> 292</td>\n",
        "      <td> 83</td>\n",
        "    </tr>\n",
        "  </tbody>\n",
        "</table>\n",
        "</div>"
       ],
       "metadata": {},
       "output_type": "pyout",
       "prompt_number": 9,
       "text": [
        "                               STATION  \\\n",
        "DATE                                     \n",
        "2010-01-01 00:00:00  GHCND:USW00013743   \n",
        "2010-01-01 01:00:00  GHCND:USW00013743   \n",
        "2010-01-01 02:00:00  GHCND:USW00013743   \n",
        "2010-01-01 03:00:00  GHCND:USW00013743   \n",
        "2010-01-01 04:00:00  GHCND:USW00013743   \n",
        "\n",
        "                                                 STATION_NAME  \\\n",
        "DATE                                                            \n",
        "2010-01-01 00:00:00  WASHINGTON REAGAN NATIONAL AIRPORT VA US   \n",
        "2010-01-01 01:00:00  WASHINGTON REAGAN NATIONAL AIRPORT VA US   \n",
        "2010-01-01 02:00:00  WASHINGTON REAGAN NATIONAL AIRPORT VA US   \n",
        "2010-01-01 03:00:00  WASHINGTON REAGAN NATIONAL AIRPORT VA US   \n",
        "2010-01-01 04:00:00  WASHINGTON REAGAN NATIONAL AIRPORT VA US   \n",
        "\n",
        "                     HLY-DEWP-NORMAL  HLY-HIDX-NORMAL  HLY-TEMP-NORMAL  \\\n",
        "DATE                                                                     \n",
        "2010-01-01 00:00:00              260              361              361   \n",
        "2010-01-01 01:00:00              260              356              356   \n",
        "2010-01-01 02:00:00              259              352              352   \n",
        "2010-01-01 03:00:00              260              350              350   \n",
        "2010-01-01 04:00:00              260              350              349   \n",
        "\n",
        "                     HLY-WCHL-NORMAL  HLY-WIND-AVGSPD  \n",
        "DATE                                                   \n",
        "2010-01-01 00:00:00              304               84  \n",
        "2010-01-01 01:00:00              298               83  \n",
        "2010-01-01 02:00:00              294               82  \n",
        "2010-01-01 03:00:00              294               81  \n",
        "2010-01-01 04:00:00              292               83  "
       ]
      }
     ],
     "prompt_number": 9
    },
    {
     "cell_type": "markdown",
     "metadata": {},
     "source": [
      "Ok, looks like we're good to go.  Something else you may notice:\n",
      "\n",
      "The temperature column is a bunch of 3 digit numbers.  Turns out they record their data as tenths of a degree, because science.  Translation:  360 = 36 degrees F.  \n",
      "\n",
      "Let's look at the max and min."
     ]
    },
    {
     "cell_type": "code",
     "collapsed": false,
     "input": [
      "weather_2010['HLY-TEMP-NORMAL'].max()"
     ],
     "language": "python",
     "metadata": {},
     "outputs": [
      {
       "metadata": {},
       "output_type": "pyout",
       "prompt_number": 10,
       "text": [
        "874"
       ]
      }
     ],
     "prompt_number": 10
    },
    {
     "cell_type": "code",
     "collapsed": false,
     "input": [
      "# Code to get the min"
     ],
     "language": "python",
     "metadata": {},
     "outputs": [
      {
       "metadata": {},
       "output_type": "pyout",
       "prompt_number": 11,
       "text": [
        "302"
       ]
      }
     ],
     "prompt_number": 11
    },
    {
     "cell_type": "markdown",
     "metadata": {},
     "source": [
      "Seems odd, right?  Wasn't it hotter in the summer and cooler in the winter than this?  We even had multiple blizzards in February.  Remember \"Snowmageddon\"?  Someone feel free to investigate this.  "
     ]
    },
    {
     "cell_type": "code",
     "collapsed": false,
     "input": [
      "#code to plot"
     ],
     "language": "python",
     "metadata": {},
     "outputs": []
    },
    {
     "cell_type": "markdown",
     "metadata": {},
     "source": [
      "## Bike Data Combined with Weather Data"
     ]
    },
    {
     "cell_type": "markdown",
     "metadata": {},
     "source": [
      "Now we're going to pull in an Excel file with bike data on it and merge it with our weather data.  \n",
      "\n",
      "Let's see how temperature affects cycling.  "
     ]
    },
    {
     "cell_type": "code",
     "collapsed": false,
     "input": [
      "kb_2010_file = pd.ExcelFile('2010_Rosslyn_Custis_Bike_Data.xlsx')"
     ],
     "language": "python",
     "metadata": {},
     "outputs": [],
     "prompt_number": 14
    },
    {
     "cell_type": "code",
     "collapsed": false,
     "input": [
      "#code here to pull in kb_2010 data.  Remember, you need to parse dates and also set the index column as 'Date'"
     ],
     "language": "python",
     "metadata": {},
     "outputs": [],
     "prompt_number": 15
    },
    {
     "cell_type": "code",
     "collapsed": false,
     "input": [
      "kb_2010[:5]"
     ],
     "language": "python",
     "metadata": {},
     "outputs": [
      {
       "html": [
        "<div style=\"max-height:1000px;max-width:1500px;overflow:auto;\">\n",
        "<table border=\"1\" class=\"dataframe\">\n",
        "  <thead>\n",
        "    <tr style=\"text-align: right;\">\n",
        "      <th></th>\n",
        "      <th>Time</th>\n",
        "      <th>Custis Rosslyn</th>\n",
        "      <th>Custis Rosslyn Ped</th>\n",
        "      <th>Custis Rosslyn Bike</th>\n",
        "    </tr>\n",
        "    <tr>\n",
        "      <th>Date</th>\n",
        "      <th></th>\n",
        "      <th></th>\n",
        "      <th></th>\n",
        "      <th></th>\n",
        "    </tr>\n",
        "  </thead>\n",
        "  <tbody>\n",
        "    <tr>\n",
        "      <th>2010-01-01</th>\n",
        "      <td> 00:00:00</td>\n",
        "      <td> 0</td>\n",
        "      <td> 0</td>\n",
        "      <td> 0</td>\n",
        "    </tr>\n",
        "    <tr>\n",
        "      <th>2010-01-01</th>\n",
        "      <td> 00:15:00</td>\n",
        "      <td> 0</td>\n",
        "      <td> 0</td>\n",
        "      <td> 0</td>\n",
        "    </tr>\n",
        "    <tr>\n",
        "      <th>2010-01-01</th>\n",
        "      <td> 00:30:00</td>\n",
        "      <td> 0</td>\n",
        "      <td> 0</td>\n",
        "      <td> 0</td>\n",
        "    </tr>\n",
        "    <tr>\n",
        "      <th>2010-01-01</th>\n",
        "      <td> 00:45:00</td>\n",
        "      <td> 0</td>\n",
        "      <td> 0</td>\n",
        "      <td> 0</td>\n",
        "    </tr>\n",
        "    <tr>\n",
        "      <th>2010-01-01</th>\n",
        "      <td> 01:00:00</td>\n",
        "      <td> 1</td>\n",
        "      <td> 0</td>\n",
        "      <td> 1</td>\n",
        "    </tr>\n",
        "  </tbody>\n",
        "</table>\n",
        "</div>"
       ],
       "metadata": {},
       "output_type": "pyout",
       "prompt_number": 16,
       "text": [
        "                Time  Custis Rosslyn  Custis Rosslyn Ped  Custis Rosslyn Bike\n",
        "Date                                                                         \n",
        "2010-01-01  00:00:00               0                   0                    0\n",
        "2010-01-01  00:15:00               0                   0                    0\n",
        "2010-01-01  00:30:00               0                   0                    0\n",
        "2010-01-01  00:45:00               0                   0                    0\n",
        "2010-01-01  01:00:00               1                   0                    1"
       ]
      }
     ],
     "prompt_number": 16
    },
    {
     "cell_type": "markdown",
     "metadata": {},
     "source": [
      "Ok, so this is an example of where Excel (and Windows in general) can cause you issues with data.  Excel automatically separated the Date and Time from each other when it pulled in the data, and then inserted today's data in with the time (you can't see it until you try to pull it in, but trust me).  \n",
      "\n",
      "So instead, we're going to do an operation to sum up all the bikes passing by at 15 minute intervals for each day."
     ]
    },
    {
     "cell_type": "code",
     "collapsed": false,
     "input": [
      "bike_2010 = kb_2010['Custis Rosslyn Bike'].resample('D',how=np.sum)"
     ],
     "language": "python",
     "metadata": {},
     "outputs": [],
     "prompt_number": 17
    },
    {
     "cell_type": "code",
     "collapsed": false,
     "input": [
      "bike_2010[:50]"
     ],
     "language": "python",
     "metadata": {},
     "outputs": [
      {
       "metadata": {},
       "output_type": "pyout",
       "prompt_number": 18,
       "text": [
        "Date\n",
        "2010-01-01     112\n",
        "2010-01-02      34\n",
        "2010-01-03     397\n",
        "2010-01-04    1701\n",
        "2010-01-05    1342\n",
        "2010-01-06    1293\n",
        "2010-01-07    1886\n",
        "2010-01-08    1107\n",
        "2010-01-09    1569\n",
        "2010-01-10    1149\n",
        "2010-01-11    1085\n",
        "2010-01-12     303\n",
        "2010-01-13     455\n",
        "2010-01-14     610\n",
        "2010-01-15     620\n",
        "2010-01-16     400\n",
        "2010-01-17      15\n",
        "2010-01-18     633\n",
        "2010-01-19     798\n",
        "2010-01-20     571\n",
        "2010-01-21     551\n",
        "2010-01-22     257\n",
        "2010-01-23     450\n",
        "2010-01-24     123\n",
        "2010-01-25     444\n",
        "2010-01-26     722\n",
        "2010-01-27     621\n",
        "2010-01-28     652\n",
        "2010-01-29     340\n",
        "2010-01-30      21\n",
        "2010-01-31       4\n",
        "2010-02-01      31\n",
        "2010-02-02      56\n",
        "2010-02-03     366\n",
        "2010-02-04    1730\n",
        "2010-02-05    1157\n",
        "2010-02-06    2012\n",
        "2010-02-07    1740\n",
        "2010-02-08    1409\n",
        "2010-02-09    1449\n",
        "2010-02-10    1253\n",
        "2010-02-11     993\n",
        "2010-02-12     837\n",
        "2010-02-13       0\n",
        "2010-02-14       0\n",
        "2010-02-15       0\n",
        "2010-02-16       0\n",
        "2010-02-17       0\n",
        "2010-02-18       0\n",
        "2010-02-19       0\n",
        "Freq: D, dtype: float64"
       ]
      }
     ],
     "prompt_number": 18
    },
    {
     "cell_type": "markdown",
     "metadata": {},
     "source": [
      "Much better.  But notice something? It looks like this created a time series object.  That's cool, but we want it to be a DataFrame so we can merge it with our weather data frame.  Let's do that.  "
     ]
    },
    {
     "cell_type": "code",
     "collapsed": false,
     "input": [
      "type(bike_2010)"
     ],
     "language": "python",
     "metadata": {},
     "outputs": []
    },
    {
     "cell_type": "code",
     "collapsed": false,
     "input": [
      "bikes = pd.DataFrame(bike_2010)"
     ],
     "language": "python",
     "metadata": {},
     "outputs": []
    },
    {
     "cell_type": "code",
     "collapsed": false,
     "input": [
      "bikes.columns"
     ],
     "language": "python",
     "metadata": {},
     "outputs": []
    },
    {
     "cell_type": "code",
     "collapsed": false,
     "input": [
      "type(weather_2010)"
     ],
     "language": "python",
     "metadata": {},
     "outputs": []
    },
    {
     "cell_type": "markdown",
     "metadata": {},
     "source": [
      "#### Merge the data\n",
      "\n",
      "Ok, this is a command that you should read up on.  In this case, we have two DataFrames with date-time indexes.  Let's merge them now.  \n",
      "\n",
      "Notice that we are merging an hourly weather sample with a daily bike sample.  Pandas detects this and automatically makes the output a daily sample.  "
     ]
    },
    {
     "cell_type": "code",
     "collapsed": false,
     "input": [
      "weather_bike_2010 = pd.merge(weather_2010, bikes, left_index=True, right_index=True)"
     ],
     "language": "python",
     "metadata": {},
     "outputs": []
    },
    {
     "cell_type": "code",
     "collapsed": false,
     "input": [
      "weather_bike_2010[:50]"
     ],
     "language": "python",
     "metadata": {},
     "outputs": []
    },
    {
     "cell_type": "markdown",
     "metadata": {},
     "source": [
      "Let's select just two columns that we care about.  \n",
      "\n",
      "In this case, just the bike count and the temperature."
     ]
    },
    {
     "cell_type": "code",
     "collapsed": false,
     "input": [
      "weather_bike_2010[['Custis Rosslyn Bike', 'HLY-TEMP-NORMAL']]"
     ],
     "language": "python",
     "metadata": {},
     "outputs": []
    },
    {
     "cell_type": "markdown",
     "metadata": {},
     "source": [
      "#### Plot the data\n",
      "\n",
      "Now let's see if there is a correlation here by plotting the data.  "
     ]
    },
    {
     "cell_type": "code",
     "collapsed": false,
     "input": [
      "weather_bike_2010[['Custis Rosslyn Bike', 'HLY-TEMP-NORMAL']].plot(figsize=(20,10))"
     ],
     "language": "python",
     "metadata": {},
     "outputs": []
    },
    {
     "cell_type": "markdown",
     "metadata": {},
     "source": [
      "Awesome!  Notice how on some days you see a huge drop in cyclists.  Look at February, and the drops align with the blizzards.  The other drops are likely rainy days.  There are ways to check for this correlation, but its out of the scope for a 90 minute introductory session.  "
     ]
    }
   ],
   "metadata": {}
  }
 ]
}